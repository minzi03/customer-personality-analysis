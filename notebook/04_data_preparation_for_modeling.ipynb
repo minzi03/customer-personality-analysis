{
 "cells": [
  {
   "cell_type": "markdown",
   "id": "3e06f052",
   "metadata": {
    "papermill": {
     "duration": 0.066748,
     "end_time": "2023-11-12T21:45:44.558451",
     "exception": false,
     "start_time": "2023-11-12T21:45:44.491703",
     "status": "completed"
    },
    "tags": []
   },
   "source": [
    "<div style=\"padding:20px;\n",
    "            color:black;\n",
    "            margin:10;\n",
    "            font-size:200%;\n",
    "            text-align:center;\n",
    "            display:fill;\n",
    "            border-radius:5px;\n",
    "            background-color:#D6B2B1;\n",
    "            overflow:hidden;\n",
    "            font-weight:700\">Customer Personality Analysis</div>"
   ]
  },
  {
   "cell_type": "markdown",
   "id": "0a7db590",
   "metadata": {
    "papermill": {
     "duration": 0.064538,
     "end_time": "2023-11-12T21:45:44.752077",
     "exception": false,
     "start_time": "2023-11-12T21:45:44.687539",
     "status": "completed"
    },
    "tags": []
   },
   "source": [
    "**DataSet Link : https://www.kaggle.com/datasets/imakash3011/customer-personality-analysis**"
   ]
  },
  {
   "cell_type": "markdown",
   "id": "7f3228af",
   "metadata": {
    "papermill": {
     "duration": 0.064236,
     "end_time": "2023-11-12T21:45:45.010085",
     "exception": false,
     "start_time": "2023-11-12T21:45:44.945849",
     "status": "completed"
    },
    "tags": []
   },
   "source": [
    "### `Import Libraries`"
   ]
  },
  {
   "cell_type": "code",
   "execution_count": 1,
   "id": "283b49ff",
   "metadata": {
    "execution": {
     "iopub.execute_input": "2023-11-12T21:45:45.140739Z",
     "iopub.status.busy": "2023-11-12T21:45:45.140300Z",
     "iopub.status.idle": "2023-11-12T21:45:50.361145Z",
     "shell.execute_reply": "2023-11-12T21:45:50.359948Z"
    },
    "papermill": {
     "duration": 5.289548,
     "end_time": "2023-11-12T21:45:50.363799",
     "exception": false,
     "start_time": "2023-11-12T21:45:45.074251",
     "status": "completed"
    },
    "tags": []
   },
   "outputs": [
    {
     "data": {
      "text/html": [
       "        <script type=\"text/javascript\">\n",
       "        window.PlotlyConfig = {MathJaxConfig: 'local'};\n",
       "        if (window.MathJax && window.MathJax.Hub && window.MathJax.Hub.Config) {window.MathJax.Hub.Config({SVG: {font: \"STIX-Web\"}});}\n",
       "        </script>\n",
       "        <script type=\"module\">import \"https://cdn.plot.ly/plotly-3.0.0.min\"</script>\n",
       "        "
      ]
     },
     "metadata": {},
     "output_type": "display_data"
    }
   ],
   "source": [
    "## main Libraries\n",
    "import numpy as np\n",
    "import pandas as pd\n",
    "\n",
    "## Datetime , i will need it in feature engineering step\n",
    "from datetime import date\n",
    "\n",
    "## Vis. Libraries\n",
    "import missingno as msno\n",
    "import seaborn as sns\n",
    "import matplotlib.pyplot as plt\n",
    "import plotly.express as px\n",
    "import plotly.graph_objects as go\n",
    "import plotly.io as pio\n",
    "from plotly.offline import init_notebook_mode, iplot\n",
    "from yellowbrick.cluster import KElbowVisualizer\n",
    "\n",
    "## preprocessing Libraries\n",
    "from sklearn.preprocessing import LabelEncoder, RobustScaler\n",
    "\n",
    "## decomposition\n",
    "from sklearn.decomposition import PCA\n",
    "\n",
    "## CLustering\n",
    "from sklearn.cluster import KMeans ##, AgglomerativeClustering\n",
    "## ignore warnings\n",
    "import warnings\n",
    "warnings.filterwarnings('ignore')\n",
    "\n",
    "## setting some Libraries\n",
    "pd.set_option('display.max_columns', None)\n",
    "sns.set(rc={\"figure.figsize\" : [12,8]}, font_scale=1.2 , style='darkgrid')\n",
    "## Set the figure and axes face color\n",
    "sns.set(rc={\"axes.facecolor\": \"#FFE4D9\", \"figure.facecolor\": \"#FFE4D9\"})\n",
    "## custom palette\n",
    "custom_palette = [\"#682F2F\", \"#9E726F\", \"#D6B2B1\", \"#B9C0C9\", \"#9F8A78\", \"#F3AB60\"]\n",
    "sns.set_palette(custom_palette)\n",
    "pio.templates.default = \"ggplot2\"\n",
    "init_notebook_mode(connected=True)"
   ]
  },
  {
   "cell_type": "markdown",
   "id": "70424fd1",
   "metadata": {
    "papermill": {
     "duration": 0.064578,
     "end_time": "2023-11-12T21:45:50.493240",
     "exception": false,
     "start_time": "2023-11-12T21:45:50.428662",
     "status": "completed"
    },
    "tags": []
   },
   "source": [
    "### `Load Data`"
   ]
  },
  {
   "cell_type": "code",
   "execution_count": 2,
   "id": "c1b1eece",
   "metadata": {
    "execution": {
     "iopub.execute_input": "2023-11-12T21:45:50.629115Z",
     "iopub.status.busy": "2023-11-12T21:45:50.628692Z",
     "iopub.status.idle": "2023-11-12T21:45:50.666749Z",
     "shell.execute_reply": "2023-11-12T21:45:50.665677Z"
    },
    "papermill": {
     "duration": 0.108118,
     "end_time": "2023-11-12T21:45:50.669310",
     "exception": false,
     "start_time": "2023-11-12T21:45:50.561192",
     "status": "completed"
    },
    "tags": []
   },
   "outputs": [],
   "source": [
    "data = pd.read_csv(\"output/03_features_engineered.csv\")"
   ]
  },
  {
   "cell_type": "markdown",
   "id": "dba2d6f2",
   "metadata": {
    "papermill": {
     "duration": 0.310511,
     "end_time": "2023-11-12T21:47:07.017733",
     "exception": false,
     "start_time": "2023-11-12T21:47:06.707222",
     "status": "completed"
    },
    "tags": []
   },
   "source": [
    "<a id=\"1\"></a>\n",
    "<div style=\"padding:20px;\n",
    "            color:black;\n",
    "            margin:10;\n",
    "            font-size:170%;\n",
    "            text-align:left;\n",
    "            display:fill;\n",
    "            border-radius:5px;\n",
    "            background-color:#D6B2B1;\n",
    "            overflow:hidden;\n",
    "            font-weight:700\">4 <span style='color:#CDA63A'>|</span> Data Preparation for ML Model\n",
    "</div>"
   ]
  },
  {
   "cell_type": "markdown",
   "id": "a3dd778f",
   "metadata": {
    "papermill": {
     "duration": 0.311405,
     "end_time": "2023-11-12T21:47:07.642281",
     "exception": false,
     "start_time": "2023-11-12T21:47:07.330876",
     "status": "completed"
    },
    "tags": []
   },
   "source": [
    "- Label encoding \n",
    "- Scaling\n",
    "- Dimensionality Reduction"
   ]
  },
  {
   "cell_type": "code",
   "execution_count": 3,
   "id": "5f360a82",
   "metadata": {
    "execution": {
     "iopub.execute_input": "2023-11-12T21:47:08.269584Z",
     "iopub.status.busy": "2023-11-12T21:47:08.268853Z",
     "iopub.status.idle": "2023-11-12T21:47:08.274326Z",
     "shell.execute_reply": "2023-11-12T21:47:08.273556Z"
    },
    "papermill": {
     "duration": 0.321315,
     "end_time": "2023-11-12T21:47:08.276469",
     "exception": false,
     "start_time": "2023-11-12T21:47:07.955154",
     "status": "completed"
    },
    "tags": []
   },
   "outputs": [],
   "source": [
    "## create copy from data\n",
    "df_final = data.copy()"
   ]
  },
  {
   "cell_type": "code",
   "execution_count": 4,
   "id": "68b4afbd",
   "metadata": {
    "execution": {
     "iopub.execute_input": "2023-11-12T21:47:08.908796Z",
     "iopub.status.busy": "2023-11-12T21:47:08.907926Z",
     "iopub.status.idle": "2023-11-12T21:47:08.914682Z",
     "shell.execute_reply": "2023-11-12T21:47:08.913427Z"
    },
    "papermill": {
     "duration": 0.326499,
     "end_time": "2023-11-12T21:47:08.917001",
     "exception": false,
     "start_time": "2023-11-12T21:47:08.590502",
     "status": "completed"
    },
    "tags": []
   },
   "outputs": [
    {
     "name": "stdout",
     "output_type": "stream",
     "text": [
      "['Education', 'Marital_status', 'Dt_customer', 'Children', 'Has_child', 'customer_month', 'day_name', 'Age_Group']\n"
     ]
    }
   ],
   "source": [
    "## Select Categorical Columns \n",
    "categorical_cols = df_final.select_dtypes(include=\"object\").columns.to_list()\n",
    "print(categorical_cols)"
   ]
  },
  {
   "cell_type": "markdown",
   "id": "1f9c3afc",
   "metadata": {
    "papermill": {
     "duration": 0.323547,
     "end_time": "2023-11-12T21:47:09.619761",
     "exception": false,
     "start_time": "2023-11-12T21:47:09.296214",
     "status": "completed"
    },
    "tags": []
   },
   "source": [
    "## <b>4.1 <span style='color:#682F2F'> Encoding </span></b>"
   ]
  },
  {
   "cell_type": "markdown",
   "id": "97d9c596",
   "metadata": {
    "papermill": {
     "duration": 0.349363,
     "end_time": "2023-11-12T21:47:10.295249",
     "exception": false,
     "start_time": "2023-11-12T21:47:09.945886",
     "status": "completed"
    },
    "tags": []
   },
   "source": [
    "**Label Encoding is a technique that is used to convert categorical columns into numerical ones so that they can be fitted by machine learning models which only take numerical data. It is an important pre-processing step in a machine-learning project.**\n",
    "- Source : https://www.geeksforgeeks.org/ml-label-encoding-of-datasets-in-python/"
   ]
  },
  {
   "cell_type": "code",
   "execution_count": 5,
   "id": "d5443b80",
   "metadata": {
    "execution": {
     "iopub.execute_input": "2023-11-12T21:47:10.951281Z",
     "iopub.status.busy": "2023-11-12T21:47:10.950776Z",
     "iopub.status.idle": "2023-11-12T21:47:10.956415Z",
     "shell.execute_reply": "2023-11-12T21:47:10.954972Z"
    },
    "papermill": {
     "duration": 0.328511,
     "end_time": "2023-11-12T21:47:10.958986",
     "exception": false,
     "start_time": "2023-11-12T21:47:10.630475",
     "status": "completed"
    },
    "tags": []
   },
   "outputs": [],
   "source": [
    "label_encoding = LabelEncoder() ## Create label_encoding object"
   ]
  },
  {
   "cell_type": "code",
   "execution_count": 6,
   "id": "bf4a69d6",
   "metadata": {
    "execution": {
     "iopub.execute_input": "2023-11-12T21:47:11.594169Z",
     "iopub.status.busy": "2023-11-12T21:47:11.593436Z",
     "iopub.status.idle": "2023-11-12T21:47:11.605031Z",
     "shell.execute_reply": "2023-11-12T21:47:11.603765Z"
    },
    "papermill": {
     "duration": 0.327202,
     "end_time": "2023-11-12T21:47:11.607861",
     "exception": false,
     "start_time": "2023-11-12T21:47:11.280659",
     "status": "completed"
    },
    "tags": []
   },
   "outputs": [],
   "source": [
    "for col in categorical_cols: \n",
    "    df_final[col] = label_encoding.fit_transform(df_final[col]) "
   ]
  },
  {
   "cell_type": "code",
   "execution_count": 7,
   "id": "5673ca77",
   "metadata": {
    "execution": {
     "iopub.execute_input": "2023-11-12T21:47:12.240315Z",
     "iopub.status.busy": "2023-11-12T21:47:12.239611Z",
     "iopub.status.idle": "2023-11-12T21:47:12.263509Z",
     "shell.execute_reply": "2023-11-12T21:47:12.262437Z"
    },
    "papermill": {
     "duration": 0.342872,
     "end_time": "2023-11-12T21:47:12.265810",
     "exception": false,
     "start_time": "2023-11-12T21:47:11.922938",
     "status": "completed"
    },
    "scrolled": true,
    "tags": []
   },
   "outputs": [
    {
     "data": {
      "text/html": [
       "<div>\n",
       "<style scoped>\n",
       "    .dataframe tbody tr th:only-of-type {\n",
       "        vertical-align: middle;\n",
       "    }\n",
       "\n",
       "    .dataframe tbody tr th {\n",
       "        vertical-align: top;\n",
       "    }\n",
       "\n",
       "    .dataframe thead th {\n",
       "        text-align: right;\n",
       "    }\n",
       "</style>\n",
       "<table border=\"1\" class=\"dataframe\">\n",
       "  <thead>\n",
       "    <tr style=\"text-align: right;\">\n",
       "      <th></th>\n",
       "      <th>Education</th>\n",
       "      <th>Marital_status</th>\n",
       "      <th>Income</th>\n",
       "      <th>Dt_customer</th>\n",
       "      <th>Recency</th>\n",
       "      <th>Wines</th>\n",
       "      <th>Fruits</th>\n",
       "      <th>Meat</th>\n",
       "      <th>Fish</th>\n",
       "      <th>Sweets</th>\n",
       "      <th>Gold</th>\n",
       "      <th>Deals</th>\n",
       "      <th>Web</th>\n",
       "      <th>Catalog</th>\n",
       "      <th>Store</th>\n",
       "      <th>Numwebvisitsmonth</th>\n",
       "      <th>Complain</th>\n",
       "      <th>Response</th>\n",
       "      <th>Age</th>\n",
       "      <th>Spending</th>\n",
       "      <th>Seniority</th>\n",
       "      <th>Children</th>\n",
       "      <th>Has_child</th>\n",
       "      <th>Campaigns_accepted</th>\n",
       "      <th>customer_month</th>\n",
       "      <th>customer_year</th>\n",
       "      <th>day_name</th>\n",
       "      <th>Age_Group</th>\n",
       "    </tr>\n",
       "  </thead>\n",
       "  <tbody>\n",
       "    <tr>\n",
       "      <th>883</th>\n",
       "      <td>0</td>\n",
       "      <td>1</td>\n",
       "      <td>64090.0</td>\n",
       "      <td>355</td>\n",
       "      <td>8</td>\n",
       "      <td>316</td>\n",
       "      <td>58</td>\n",
       "      <td>161</td>\n",
       "      <td>76</td>\n",
       "      <td>51</td>\n",
       "      <td>135</td>\n",
       "      <td>1</td>\n",
       "      <td>6</td>\n",
       "      <td>9</td>\n",
       "      <td>4</td>\n",
       "      <td>5</td>\n",
       "      <td>0</td>\n",
       "      <td>1</td>\n",
       "      <td>67.0</td>\n",
       "      <td>797</td>\n",
       "      <td>10.09863</td>\n",
       "      <td>0</td>\n",
       "      <td>0</td>\n",
       "      <td>0</td>\n",
       "      <td>1</td>\n",
       "      <td>2013</td>\n",
       "      <td>6</td>\n",
       "      <td>2</td>\n",
       "    </tr>\n",
       "  </tbody>\n",
       "</table>\n",
       "</div>"
      ],
      "text/plain": [
       "     Education  Marital_status   Income  Dt_customer  Recency  Wines  Fruits  \\\n",
       "883          0               1  64090.0          355        8    316      58   \n",
       "\n",
       "     Meat  Fish  Sweets  Gold  Deals  Web  Catalog  Store  Numwebvisitsmonth  \\\n",
       "883   161    76      51   135      1    6        9      4                  5   \n",
       "\n",
       "     Complain  Response   Age  Spending  Seniority  Children  Has_child  \\\n",
       "883         0         1  67.0       797   10.09863         0          0   \n",
       "\n",
       "     Campaigns_accepted  customer_month  customer_year  day_name  Age_Group  \n",
       "883                   0               1           2013         6          2  "
      ]
     },
     "execution_count": 7,
     "metadata": {},
     "output_type": "execute_result"
    }
   ],
   "source": [
    "df_final.sample() ## Take a sample"
   ]
  },
  {
   "cell_type": "code",
   "execution_count": 8,
   "id": "ae073af6",
   "metadata": {
    "execution": {
     "iopub.execute_input": "2023-11-12T21:47:12.892767Z",
     "iopub.status.busy": "2023-11-12T21:47:12.892336Z",
     "iopub.status.idle": "2023-11-12T21:47:12.898613Z",
     "shell.execute_reply": "2023-11-12T21:47:12.897767Z"
    },
    "papermill": {
     "duration": 0.321178,
     "end_time": "2023-11-12T21:47:12.900647",
     "exception": false,
     "start_time": "2023-11-12T21:47:12.579469",
     "status": "completed"
    },
    "tags": []
   },
   "outputs": [
    {
     "name": "stdout",
     "output_type": "stream",
     "text": [
      " Categorical columns : []\n"
     ]
    }
   ],
   "source": [
    "categorical_cols = df_final.select_dtypes(include=\"object\").columns.to_list()\n",
    "print(f\" Categorical columns : {categorical_cols}\")"
   ]
  },
  {
   "cell_type": "markdown",
   "id": "ff861a7b",
   "metadata": {
    "papermill": {
     "duration": 0.309322,
     "end_time": "2023-11-12T21:47:13.521770",
     "exception": false,
     "start_time": "2023-11-12T21:47:13.212448",
     "status": "completed"
    },
    "tags": []
   },
   "source": [
    "**Encoding Done**"
   ]
  },
  {
   "cell_type": "markdown",
   "id": "19c56313",
   "metadata": {
    "papermill": {
     "duration": 0.310868,
     "end_time": "2023-11-12T21:47:14.146172",
     "exception": false,
     "start_time": "2023-11-12T21:47:13.835304",
     "status": "completed"
    },
    "tags": []
   },
   "source": [
    "## <b>4.2 <span style='color:#682F2F'> Scaling The Features</span></b>"
   ]
  },
  {
   "cell_type": "markdown",
   "id": "c8d5fc83",
   "metadata": {
    "papermill": {
     "duration": 0.313342,
     "end_time": "2023-11-12T21:47:14.835703",
     "exception": false,
     "start_time": "2023-11-12T21:47:14.522361",
     "status": "completed"
    },
    "tags": []
   },
   "source": [
    "**Using RobustScaler : This Scaler removes the median and scales the data according to the quantile range (defaults to IQR: Interquartile Range). The IQR is the range between the 1st quartile (25th quantile) and the 3rd quartile (75th quantile).**\n",
    "- Source : https://scikit-learn.org/stable/modules/generated/sklearn.preprocessing.RobustScaler.html"
   ]
  },
  {
   "cell_type": "code",
   "execution_count": 9,
   "id": "4b21fed7",
   "metadata": {
    "execution": {
     "iopub.execute_input": "2023-11-12T21:47:15.461602Z",
     "iopub.status.busy": "2023-11-12T21:47:15.461153Z",
     "iopub.status.idle": "2023-11-12T21:47:15.470615Z",
     "shell.execute_reply": "2023-11-12T21:47:15.469285Z"
    },
    "papermill": {
     "duration": 0.324492,
     "end_time": "2023-11-12T21:47:15.472917",
     "exception": false,
     "start_time": "2023-11-12T21:47:15.148425",
     "status": "completed"
    },
    "tags": []
   },
   "outputs": [],
   "source": [
    "cols_drop = ['Complain', 'Response', 'Campaigns_accepted', \"Age_Group\", \"Dt_customer\", \"day_name\"] ## Select Cols to drop \n",
    "df_final.drop(cols_drop, axis=1, inplace=True)"
   ]
  },
  {
   "cell_type": "code",
   "execution_count": 10,
   "id": "bce6bac3",
   "metadata": {
    "execution": {
     "iopub.execute_input": "2023-11-12T21:47:16.101324Z",
     "iopub.status.busy": "2023-11-12T21:47:16.100835Z",
     "iopub.status.idle": "2023-11-12T21:47:16.119910Z",
     "shell.execute_reply": "2023-11-12T21:47:16.119078Z"
    },
    "papermill": {
     "duration": 0.336538,
     "end_time": "2023-11-12T21:47:16.121915",
     "exception": false,
     "start_time": "2023-11-12T21:47:15.785377",
     "status": "completed"
    },
    "tags": []
   },
   "outputs": [
    {
     "data": {
      "text/html": [
       "<div>\n",
       "<style scoped>\n",
       "    .dataframe tbody tr th:only-of-type {\n",
       "        vertical-align: middle;\n",
       "    }\n",
       "\n",
       "    .dataframe tbody tr th {\n",
       "        vertical-align: top;\n",
       "    }\n",
       "\n",
       "    .dataframe thead th {\n",
       "        text-align: right;\n",
       "    }\n",
       "</style>\n",
       "<table border=\"1\" class=\"dataframe\">\n",
       "  <thead>\n",
       "    <tr style=\"text-align: right;\">\n",
       "      <th></th>\n",
       "      <th>Education</th>\n",
       "      <th>Marital_status</th>\n",
       "      <th>Income</th>\n",
       "      <th>Recency</th>\n",
       "      <th>Wines</th>\n",
       "      <th>Fruits</th>\n",
       "      <th>Meat</th>\n",
       "      <th>Fish</th>\n",
       "      <th>Sweets</th>\n",
       "      <th>Gold</th>\n",
       "      <th>Deals</th>\n",
       "      <th>Web</th>\n",
       "      <th>Catalog</th>\n",
       "      <th>Store</th>\n",
       "      <th>Numwebvisitsmonth</th>\n",
       "      <th>Age</th>\n",
       "      <th>Spending</th>\n",
       "      <th>Seniority</th>\n",
       "      <th>Children</th>\n",
       "      <th>Has_child</th>\n",
       "      <th>customer_month</th>\n",
       "      <th>customer_year</th>\n",
       "    </tr>\n",
       "  </thead>\n",
       "  <tbody>\n",
       "    <tr>\n",
       "      <th>499</th>\n",
       "      <td>0</td>\n",
       "      <td>1</td>\n",
       "      <td>48920.0</td>\n",
       "      <td>93</td>\n",
       "      <td>238</td>\n",
       "      <td>17</td>\n",
       "      <td>68</td>\n",
       "      <td>8</td>\n",
       "      <td>10</td>\n",
       "      <td>6</td>\n",
       "      <td>3</td>\n",
       "      <td>6</td>\n",
       "      <td>2</td>\n",
       "      <td>5</td>\n",
       "      <td>7</td>\n",
       "      <td>59.0</td>\n",
       "      <td>347</td>\n",
       "      <td>9.89589</td>\n",
       "      <td>1</td>\n",
       "      <td>0</td>\n",
       "      <td>10</td>\n",
       "      <td>2013</td>\n",
       "    </tr>\n",
       "  </tbody>\n",
       "</table>\n",
       "</div>"
      ],
      "text/plain": [
       "     Education  Marital_status   Income  Recency  Wines  Fruits  Meat  Fish  \\\n",
       "499          0               1  48920.0       93    238      17    68     8   \n",
       "\n",
       "     Sweets  Gold  Deals  Web  Catalog  Store  Numwebvisitsmonth   Age  \\\n",
       "499      10     6      3    6        2      5                  7  59.0   \n",
       "\n",
       "     Spending  Seniority  Children  Has_child  customer_month  customer_year  \n",
       "499       347    9.89589         1          0              10           2013  "
      ]
     },
     "execution_count": 10,
     "metadata": {},
     "output_type": "execute_result"
    }
   ],
   "source": [
    "df_final.sample()"
   ]
  },
  {
   "cell_type": "code",
   "execution_count": 11,
   "id": "26046cbb",
   "metadata": {
    "execution": {
     "iopub.execute_input": "2023-11-12T21:47:16.749546Z",
     "iopub.status.busy": "2023-11-12T21:47:16.748838Z",
     "iopub.status.idle": "2023-11-12T21:47:16.767849Z",
     "shell.execute_reply": "2023-11-12T21:47:16.766762Z"
    },
    "papermill": {
     "duration": 0.336291,
     "end_time": "2023-11-12T21:47:16.770226",
     "exception": false,
     "start_time": "2023-11-12T21:47:16.433935",
     "status": "completed"
    },
    "tags": []
   },
   "outputs": [
    {
     "data": {
      "text/html": [
       "<style>#sk-container-id-1 {\n",
       "  /* Definition of color scheme common for light and dark mode */\n",
       "  --sklearn-color-text: black;\n",
       "  --sklearn-color-line: gray;\n",
       "  /* Definition of color scheme for unfitted estimators */\n",
       "  --sklearn-color-unfitted-level-0: #fff5e6;\n",
       "  --sklearn-color-unfitted-level-1: #f6e4d2;\n",
       "  --sklearn-color-unfitted-level-2: #ffe0b3;\n",
       "  --sklearn-color-unfitted-level-3: chocolate;\n",
       "  /* Definition of color scheme for fitted estimators */\n",
       "  --sklearn-color-fitted-level-0: #f0f8ff;\n",
       "  --sklearn-color-fitted-level-1: #d4ebff;\n",
       "  --sklearn-color-fitted-level-2: #b3dbfd;\n",
       "  --sklearn-color-fitted-level-3: cornflowerblue;\n",
       "\n",
       "  /* Specific color for light theme */\n",
       "  --sklearn-color-text-on-default-background: var(--sg-text-color, var(--theme-code-foreground, var(--jp-content-font-color1, black)));\n",
       "  --sklearn-color-background: var(--sg-background-color, var(--theme-background, var(--jp-layout-color0, white)));\n",
       "  --sklearn-color-border-box: var(--sg-text-color, var(--theme-code-foreground, var(--jp-content-font-color1, black)));\n",
       "  --sklearn-color-icon: #696969;\n",
       "\n",
       "  @media (prefers-color-scheme: dark) {\n",
       "    /* Redefinition of color scheme for dark theme */\n",
       "    --sklearn-color-text-on-default-background: var(--sg-text-color, var(--theme-code-foreground, var(--jp-content-font-color1, white)));\n",
       "    --sklearn-color-background: var(--sg-background-color, var(--theme-background, var(--jp-layout-color0, #111)));\n",
       "    --sklearn-color-border-box: var(--sg-text-color, var(--theme-code-foreground, var(--jp-content-font-color1, white)));\n",
       "    --sklearn-color-icon: #878787;\n",
       "  }\n",
       "}\n",
       "\n",
       "#sk-container-id-1 {\n",
       "  color: var(--sklearn-color-text);\n",
       "}\n",
       "\n",
       "#sk-container-id-1 pre {\n",
       "  padding: 0;\n",
       "}\n",
       "\n",
       "#sk-container-id-1 input.sk-hidden--visually {\n",
       "  border: 0;\n",
       "  clip: rect(1px 1px 1px 1px);\n",
       "  clip: rect(1px, 1px, 1px, 1px);\n",
       "  height: 1px;\n",
       "  margin: -1px;\n",
       "  overflow: hidden;\n",
       "  padding: 0;\n",
       "  position: absolute;\n",
       "  width: 1px;\n",
       "}\n",
       "\n",
       "#sk-container-id-1 div.sk-dashed-wrapped {\n",
       "  border: 1px dashed var(--sklearn-color-line);\n",
       "  margin: 0 0.4em 0.5em 0.4em;\n",
       "  box-sizing: border-box;\n",
       "  padding-bottom: 0.4em;\n",
       "  background-color: var(--sklearn-color-background);\n",
       "}\n",
       "\n",
       "#sk-container-id-1 div.sk-container {\n",
       "  /* jupyter's `normalize.less` sets `[hidden] { display: none; }`\n",
       "     but bootstrap.min.css set `[hidden] { display: none !important; }`\n",
       "     so we also need the `!important` here to be able to override the\n",
       "     default hidden behavior on the sphinx rendered scikit-learn.org.\n",
       "     See: https://github.com/scikit-learn/scikit-learn/issues/21755 */\n",
       "  display: inline-block !important;\n",
       "  position: relative;\n",
       "}\n",
       "\n",
       "#sk-container-id-1 div.sk-text-repr-fallback {\n",
       "  display: none;\n",
       "}\n",
       "\n",
       "div.sk-parallel-item,\n",
       "div.sk-serial,\n",
       "div.sk-item {\n",
       "  /* draw centered vertical line to link estimators */\n",
       "  background-image: linear-gradient(var(--sklearn-color-text-on-default-background), var(--sklearn-color-text-on-default-background));\n",
       "  background-size: 2px 100%;\n",
       "  background-repeat: no-repeat;\n",
       "  background-position: center center;\n",
       "}\n",
       "\n",
       "/* Parallel-specific style estimator block */\n",
       "\n",
       "#sk-container-id-1 div.sk-parallel-item::after {\n",
       "  content: \"\";\n",
       "  width: 100%;\n",
       "  border-bottom: 2px solid var(--sklearn-color-text-on-default-background);\n",
       "  flex-grow: 1;\n",
       "}\n",
       "\n",
       "#sk-container-id-1 div.sk-parallel {\n",
       "  display: flex;\n",
       "  align-items: stretch;\n",
       "  justify-content: center;\n",
       "  background-color: var(--sklearn-color-background);\n",
       "  position: relative;\n",
       "}\n",
       "\n",
       "#sk-container-id-1 div.sk-parallel-item {\n",
       "  display: flex;\n",
       "  flex-direction: column;\n",
       "}\n",
       "\n",
       "#sk-container-id-1 div.sk-parallel-item:first-child::after {\n",
       "  align-self: flex-end;\n",
       "  width: 50%;\n",
       "}\n",
       "\n",
       "#sk-container-id-1 div.sk-parallel-item:last-child::after {\n",
       "  align-self: flex-start;\n",
       "  width: 50%;\n",
       "}\n",
       "\n",
       "#sk-container-id-1 div.sk-parallel-item:only-child::after {\n",
       "  width: 0;\n",
       "}\n",
       "\n",
       "/* Serial-specific style estimator block */\n",
       "\n",
       "#sk-container-id-1 div.sk-serial {\n",
       "  display: flex;\n",
       "  flex-direction: column;\n",
       "  align-items: center;\n",
       "  background-color: var(--sklearn-color-background);\n",
       "  padding-right: 1em;\n",
       "  padding-left: 1em;\n",
       "}\n",
       "\n",
       "\n",
       "/* Toggleable style: style used for estimator/Pipeline/ColumnTransformer box that is\n",
       "clickable and can be expanded/collapsed.\n",
       "- Pipeline and ColumnTransformer use this feature and define the default style\n",
       "- Estimators will overwrite some part of the style using the `sk-estimator` class\n",
       "*/\n",
       "\n",
       "/* Pipeline and ColumnTransformer style (default) */\n",
       "\n",
       "#sk-container-id-1 div.sk-toggleable {\n",
       "  /* Default theme specific background. It is overwritten whether we have a\n",
       "  specific estimator or a Pipeline/ColumnTransformer */\n",
       "  background-color: var(--sklearn-color-background);\n",
       "}\n",
       "\n",
       "/* Toggleable label */\n",
       "#sk-container-id-1 label.sk-toggleable__label {\n",
       "  cursor: pointer;\n",
       "  display: block;\n",
       "  width: 100%;\n",
       "  margin-bottom: 0;\n",
       "  padding: 0.5em;\n",
       "  box-sizing: border-box;\n",
       "  text-align: center;\n",
       "}\n",
       "\n",
       "#sk-container-id-1 label.sk-toggleable__label-arrow:before {\n",
       "  /* Arrow on the left of the label */\n",
       "  content: \"▸\";\n",
       "  float: left;\n",
       "  margin-right: 0.25em;\n",
       "  color: var(--sklearn-color-icon);\n",
       "}\n",
       "\n",
       "#sk-container-id-1 label.sk-toggleable__label-arrow:hover:before {\n",
       "  color: var(--sklearn-color-text);\n",
       "}\n",
       "\n",
       "/* Toggleable content - dropdown */\n",
       "\n",
       "#sk-container-id-1 div.sk-toggleable__content {\n",
       "  max-height: 0;\n",
       "  max-width: 0;\n",
       "  overflow: hidden;\n",
       "  text-align: left;\n",
       "  /* unfitted */\n",
       "  background-color: var(--sklearn-color-unfitted-level-0);\n",
       "}\n",
       "\n",
       "#sk-container-id-1 div.sk-toggleable__content.fitted {\n",
       "  /* fitted */\n",
       "  background-color: var(--sklearn-color-fitted-level-0);\n",
       "}\n",
       "\n",
       "#sk-container-id-1 div.sk-toggleable__content pre {\n",
       "  margin: 0.2em;\n",
       "  border-radius: 0.25em;\n",
       "  color: var(--sklearn-color-text);\n",
       "  /* unfitted */\n",
       "  background-color: var(--sklearn-color-unfitted-level-0);\n",
       "}\n",
       "\n",
       "#sk-container-id-1 div.sk-toggleable__content.fitted pre {\n",
       "  /* unfitted */\n",
       "  background-color: var(--sklearn-color-fitted-level-0);\n",
       "}\n",
       "\n",
       "#sk-container-id-1 input.sk-toggleable__control:checked~div.sk-toggleable__content {\n",
       "  /* Expand drop-down */\n",
       "  max-height: 200px;\n",
       "  max-width: 100%;\n",
       "  overflow: auto;\n",
       "}\n",
       "\n",
       "#sk-container-id-1 input.sk-toggleable__control:checked~label.sk-toggleable__label-arrow:before {\n",
       "  content: \"▾\";\n",
       "}\n",
       "\n",
       "/* Pipeline/ColumnTransformer-specific style */\n",
       "\n",
       "#sk-container-id-1 div.sk-label input.sk-toggleable__control:checked~label.sk-toggleable__label {\n",
       "  color: var(--sklearn-color-text);\n",
       "  background-color: var(--sklearn-color-unfitted-level-2);\n",
       "}\n",
       "\n",
       "#sk-container-id-1 div.sk-label.fitted input.sk-toggleable__control:checked~label.sk-toggleable__label {\n",
       "  background-color: var(--sklearn-color-fitted-level-2);\n",
       "}\n",
       "\n",
       "/* Estimator-specific style */\n",
       "\n",
       "/* Colorize estimator box */\n",
       "#sk-container-id-1 div.sk-estimator input.sk-toggleable__control:checked~label.sk-toggleable__label {\n",
       "  /* unfitted */\n",
       "  background-color: var(--sklearn-color-unfitted-level-2);\n",
       "}\n",
       "\n",
       "#sk-container-id-1 div.sk-estimator.fitted input.sk-toggleable__control:checked~label.sk-toggleable__label {\n",
       "  /* fitted */\n",
       "  background-color: var(--sklearn-color-fitted-level-2);\n",
       "}\n",
       "\n",
       "#sk-container-id-1 div.sk-label label.sk-toggleable__label,\n",
       "#sk-container-id-1 div.sk-label label {\n",
       "  /* The background is the default theme color */\n",
       "  color: var(--sklearn-color-text-on-default-background);\n",
       "}\n",
       "\n",
       "/* On hover, darken the color of the background */\n",
       "#sk-container-id-1 div.sk-label:hover label.sk-toggleable__label {\n",
       "  color: var(--sklearn-color-text);\n",
       "  background-color: var(--sklearn-color-unfitted-level-2);\n",
       "}\n",
       "\n",
       "/* Label box, darken color on hover, fitted */\n",
       "#sk-container-id-1 div.sk-label.fitted:hover label.sk-toggleable__label.fitted {\n",
       "  color: var(--sklearn-color-text);\n",
       "  background-color: var(--sklearn-color-fitted-level-2);\n",
       "}\n",
       "\n",
       "/* Estimator label */\n",
       "\n",
       "#sk-container-id-1 div.sk-label label {\n",
       "  font-family: monospace;\n",
       "  font-weight: bold;\n",
       "  display: inline-block;\n",
       "  line-height: 1.2em;\n",
       "}\n",
       "\n",
       "#sk-container-id-1 div.sk-label-container {\n",
       "  text-align: center;\n",
       "}\n",
       "\n",
       "/* Estimator-specific */\n",
       "#sk-container-id-1 div.sk-estimator {\n",
       "  font-family: monospace;\n",
       "  border: 1px dotted var(--sklearn-color-border-box);\n",
       "  border-radius: 0.25em;\n",
       "  box-sizing: border-box;\n",
       "  margin-bottom: 0.5em;\n",
       "  /* unfitted */\n",
       "  background-color: var(--sklearn-color-unfitted-level-0);\n",
       "}\n",
       "\n",
       "#sk-container-id-1 div.sk-estimator.fitted {\n",
       "  /* fitted */\n",
       "  background-color: var(--sklearn-color-fitted-level-0);\n",
       "}\n",
       "\n",
       "/* on hover */\n",
       "#sk-container-id-1 div.sk-estimator:hover {\n",
       "  /* unfitted */\n",
       "  background-color: var(--sklearn-color-unfitted-level-2);\n",
       "}\n",
       "\n",
       "#sk-container-id-1 div.sk-estimator.fitted:hover {\n",
       "  /* fitted */\n",
       "  background-color: var(--sklearn-color-fitted-level-2);\n",
       "}\n",
       "\n",
       "/* Specification for estimator info (e.g. \"i\" and \"?\") */\n",
       "\n",
       "/* Common style for \"i\" and \"?\" */\n",
       "\n",
       ".sk-estimator-doc-link,\n",
       "a:link.sk-estimator-doc-link,\n",
       "a:visited.sk-estimator-doc-link {\n",
       "  float: right;\n",
       "  font-size: smaller;\n",
       "  line-height: 1em;\n",
       "  font-family: monospace;\n",
       "  background-color: var(--sklearn-color-background);\n",
       "  border-radius: 1em;\n",
       "  height: 1em;\n",
       "  width: 1em;\n",
       "  text-decoration: none !important;\n",
       "  margin-left: 1ex;\n",
       "  /* unfitted */\n",
       "  border: var(--sklearn-color-unfitted-level-1) 1pt solid;\n",
       "  color: var(--sklearn-color-unfitted-level-1);\n",
       "}\n",
       "\n",
       ".sk-estimator-doc-link.fitted,\n",
       "a:link.sk-estimator-doc-link.fitted,\n",
       "a:visited.sk-estimator-doc-link.fitted {\n",
       "  /* fitted */\n",
       "  border: var(--sklearn-color-fitted-level-1) 1pt solid;\n",
       "  color: var(--sklearn-color-fitted-level-1);\n",
       "}\n",
       "\n",
       "/* On hover */\n",
       "div.sk-estimator:hover .sk-estimator-doc-link:hover,\n",
       ".sk-estimator-doc-link:hover,\n",
       "div.sk-label-container:hover .sk-estimator-doc-link:hover,\n",
       ".sk-estimator-doc-link:hover {\n",
       "  /* unfitted */\n",
       "  background-color: var(--sklearn-color-unfitted-level-3);\n",
       "  color: var(--sklearn-color-background);\n",
       "  text-decoration: none;\n",
       "}\n",
       "\n",
       "div.sk-estimator.fitted:hover .sk-estimator-doc-link.fitted:hover,\n",
       ".sk-estimator-doc-link.fitted:hover,\n",
       "div.sk-label-container:hover .sk-estimator-doc-link.fitted:hover,\n",
       ".sk-estimator-doc-link.fitted:hover {\n",
       "  /* fitted */\n",
       "  background-color: var(--sklearn-color-fitted-level-3);\n",
       "  color: var(--sklearn-color-background);\n",
       "  text-decoration: none;\n",
       "}\n",
       "\n",
       "/* Span, style for the box shown on hovering the info icon */\n",
       ".sk-estimator-doc-link span {\n",
       "  display: none;\n",
       "  z-index: 9999;\n",
       "  position: relative;\n",
       "  font-weight: normal;\n",
       "  right: .2ex;\n",
       "  padding: .5ex;\n",
       "  margin: .5ex;\n",
       "  width: min-content;\n",
       "  min-width: 20ex;\n",
       "  max-width: 50ex;\n",
       "  color: var(--sklearn-color-text);\n",
       "  box-shadow: 2pt 2pt 4pt #999;\n",
       "  /* unfitted */\n",
       "  background: var(--sklearn-color-unfitted-level-0);\n",
       "  border: .5pt solid var(--sklearn-color-unfitted-level-3);\n",
       "}\n",
       "\n",
       ".sk-estimator-doc-link.fitted span {\n",
       "  /* fitted */\n",
       "  background: var(--sklearn-color-fitted-level-0);\n",
       "  border: var(--sklearn-color-fitted-level-3);\n",
       "}\n",
       "\n",
       ".sk-estimator-doc-link:hover span {\n",
       "  display: block;\n",
       "}\n",
       "\n",
       "/* \"?\"-specific style due to the `<a>` HTML tag */\n",
       "\n",
       "#sk-container-id-1 a.estimator_doc_link {\n",
       "  float: right;\n",
       "  font-size: 1rem;\n",
       "  line-height: 1em;\n",
       "  font-family: monospace;\n",
       "  background-color: var(--sklearn-color-background);\n",
       "  border-radius: 1rem;\n",
       "  height: 1rem;\n",
       "  width: 1rem;\n",
       "  text-decoration: none;\n",
       "  /* unfitted */\n",
       "  color: var(--sklearn-color-unfitted-level-1);\n",
       "  border: var(--sklearn-color-unfitted-level-1) 1pt solid;\n",
       "}\n",
       "\n",
       "#sk-container-id-1 a.estimator_doc_link.fitted {\n",
       "  /* fitted */\n",
       "  border: var(--sklearn-color-fitted-level-1) 1pt solid;\n",
       "  color: var(--sklearn-color-fitted-level-1);\n",
       "}\n",
       "\n",
       "/* On hover */\n",
       "#sk-container-id-1 a.estimator_doc_link:hover {\n",
       "  /* unfitted */\n",
       "  background-color: var(--sklearn-color-unfitted-level-3);\n",
       "  color: var(--sklearn-color-background);\n",
       "  text-decoration: none;\n",
       "}\n",
       "\n",
       "#sk-container-id-1 a.estimator_doc_link.fitted:hover {\n",
       "  /* fitted */\n",
       "  background-color: var(--sklearn-color-fitted-level-3);\n",
       "}\n",
       "</style><div id=\"sk-container-id-1\" class=\"sk-top-container\"><div class=\"sk-text-repr-fallback\"><pre>RobustScaler()</pre><b>In a Jupyter environment, please rerun this cell to show the HTML representation or trust the notebook. <br />On GitHub, the HTML representation is unable to render, please try loading this page with nbviewer.org.</b></div><div class=\"sk-container\" hidden><div class=\"sk-item\"><div class=\"sk-estimator fitted sk-toggleable\"><input class=\"sk-toggleable__control sk-hidden--visually\" id=\"sk-estimator-id-1\" type=\"checkbox\" checked><label for=\"sk-estimator-id-1\" class=\"sk-toggleable__label fitted sk-toggleable__label-arrow fitted\">&nbsp;&nbsp;RobustScaler<a class=\"sk-estimator-doc-link fitted\" rel=\"noreferrer\" target=\"_blank\" href=\"https://scikit-learn.org/1.5/modules/generated/sklearn.preprocessing.RobustScaler.html\">?<span>Documentation for RobustScaler</span></a><span class=\"sk-estimator-doc-link fitted\">i<span>Fitted</span></span></label><div class=\"sk-toggleable__content fitted\"><pre>RobustScaler()</pre></div> </div></div></div></div>"
      ],
      "text/plain": [
       "RobustScaler()"
      ]
     },
     "execution_count": 11,
     "metadata": {},
     "output_type": "execute_result"
    }
   ],
   "source": [
    "## sclaing \n",
    "rob_scaling = RobustScaler() ## Create rob_scaling object\n",
    "rob_scaling.fit(df_final) ## Compute the median and quantiles to be used for scaling."
   ]
  },
  {
   "cell_type": "code",
   "execution_count": 12,
   "id": "7a99ba58",
   "metadata": {
    "execution": {
     "iopub.execute_input": "2023-11-12T21:47:17.398562Z",
     "iopub.status.busy": "2023-11-12T21:47:17.397788Z",
     "iopub.status.idle": "2023-11-12T21:47:17.406130Z",
     "shell.execute_reply": "2023-11-12T21:47:17.405301Z"
    },
    "papermill": {
     "duration": 0.325059,
     "end_time": "2023-11-12T21:47:17.408297",
     "exception": false,
     "start_time": "2023-11-12T21:47:17.083238",
     "status": "completed"
    },
    "tags": []
   },
   "outputs": [],
   "source": [
    "## Create scaled_data dataframe\n",
    "## Contains data after scaling\n",
    "scaled_data = pd.DataFrame(rob_scaling.transform(df_final),columns= df_final.columns)"
   ]
  },
  {
   "cell_type": "code",
   "execution_count": 13,
   "id": "74179c53",
   "metadata": {
    "execution": {
     "iopub.execute_input": "2023-11-12T21:47:18.041358Z",
     "iopub.status.busy": "2023-11-12T21:47:18.040613Z",
     "iopub.status.idle": "2023-11-12T21:47:18.070864Z",
     "shell.execute_reply": "2023-11-12T21:47:18.069741Z"
    },
    "papermill": {
     "duration": 0.349601,
     "end_time": "2023-11-12T21:47:18.073496",
     "exception": false,
     "start_time": "2023-11-12T21:47:17.723895",
     "status": "completed"
    },
    "tags": []
   },
   "outputs": [
    {
     "data": {
      "text/html": [
       "<div>\n",
       "<style scoped>\n",
       "    .dataframe tbody tr th:only-of-type {\n",
       "        vertical-align: middle;\n",
       "    }\n",
       "\n",
       "    .dataframe tbody tr th {\n",
       "        vertical-align: top;\n",
       "    }\n",
       "\n",
       "    .dataframe thead th {\n",
       "        text-align: right;\n",
       "    }\n",
       "</style>\n",
       "<table border=\"1\" class=\"dataframe\">\n",
       "  <thead>\n",
       "    <tr style=\"text-align: right;\">\n",
       "      <th></th>\n",
       "      <th>Education</th>\n",
       "      <th>Marital_status</th>\n",
       "      <th>Income</th>\n",
       "      <th>Recency</th>\n",
       "      <th>Wines</th>\n",
       "      <th>Fruits</th>\n",
       "      <th>Meat</th>\n",
       "      <th>Fish</th>\n",
       "      <th>Sweets</th>\n",
       "      <th>Gold</th>\n",
       "      <th>Deals</th>\n",
       "      <th>Web</th>\n",
       "      <th>Catalog</th>\n",
       "      <th>Store</th>\n",
       "      <th>Numwebvisitsmonth</th>\n",
       "      <th>Age</th>\n",
       "      <th>Spending</th>\n",
       "      <th>Seniority</th>\n",
       "      <th>Children</th>\n",
       "      <th>Has_child</th>\n",
       "      <th>customer_month</th>\n",
       "      <th>customer_year</th>\n",
       "    </tr>\n",
       "  </thead>\n",
       "  <tbody>\n",
       "    <tr>\n",
       "      <th>1673</th>\n",
       "      <td>0.0</td>\n",
       "      <td>-1.0</td>\n",
       "      <td>-0.068759</td>\n",
       "      <td>-0.08</td>\n",
       "      <td>0.663202</td>\n",
       "      <td>-0.096774</td>\n",
       "      <td>0.064665</td>\n",
       "      <td>-0.106383</td>\n",
       "      <td>-0.25000</td>\n",
       "      <td>1.595745</td>\n",
       "      <td>0.5</td>\n",
       "      <td>0.75</td>\n",
       "      <td>0.00</td>\n",
       "      <td>0.8</td>\n",
       "      <td>0.25</td>\n",
       "      <td>1.055556</td>\n",
       "      <td>0.297242</td>\n",
       "      <td>-0.028653</td>\n",
       "      <td>0.000000</td>\n",
       "      <td>0.0</td>\n",
       "      <td>-0.142857</td>\n",
       "      <td>0.0</td>\n",
       "    </tr>\n",
       "    <tr>\n",
       "      <th>1367</th>\n",
       "      <td>1.0</td>\n",
       "      <td>0.0</td>\n",
       "      <td>0.089420</td>\n",
       "      <td>0.50</td>\n",
       "      <td>-0.189189</td>\n",
       "      <td>0.064516</td>\n",
       "      <td>-0.157044</td>\n",
       "      <td>-0.021277</td>\n",
       "      <td>0.06250</td>\n",
       "      <td>0.063830</td>\n",
       "      <td>1.0</td>\n",
       "      <td>-0.25</td>\n",
       "      <td>-0.25</td>\n",
       "      <td>-0.2</td>\n",
       "      <td>0.00</td>\n",
       "      <td>0.777778</td>\n",
       "      <td>-0.224719</td>\n",
       "      <td>0.017192</td>\n",
       "      <td>0.333333</td>\n",
       "      <td>0.0</td>\n",
       "      <td>-0.142857</td>\n",
       "      <td>0.0</td>\n",
       "    </tr>\n",
       "    <tr>\n",
       "      <th>120</th>\n",
       "      <td>0.0</td>\n",
       "      <td>0.0</td>\n",
       "      <td>0.350119</td>\n",
       "      <td>-0.78</td>\n",
       "      <td>-0.114345</td>\n",
       "      <td>1.612903</td>\n",
       "      <td>0.023095</td>\n",
       "      <td>1.127660</td>\n",
       "      <td>2.53125</td>\n",
       "      <td>0.702128</td>\n",
       "      <td>1.5</td>\n",
       "      <td>0.25</td>\n",
       "      <td>0.50</td>\n",
       "      <td>0.0</td>\n",
       "      <td>-0.25</td>\n",
       "      <td>1.000000</td>\n",
       "      <td>0.067416</td>\n",
       "      <td>-0.237822</td>\n",
       "      <td>0.000000</td>\n",
       "      <td>0.0</td>\n",
       "      <td>0.714286</td>\n",
       "      <td>0.0</td>\n",
       "    </tr>\n",
       "    <tr>\n",
       "      <th>950</th>\n",
       "      <td>0.0</td>\n",
       "      <td>0.0</td>\n",
       "      <td>-0.335512</td>\n",
       "      <td>0.70</td>\n",
       "      <td>-0.197505</td>\n",
       "      <td>-0.129032</td>\n",
       "      <td>-0.101617</td>\n",
       "      <td>-0.255319</td>\n",
       "      <td>0.28125</td>\n",
       "      <td>-0.489362</td>\n",
       "      <td>1.5</td>\n",
       "      <td>-0.50</td>\n",
       "      <td>-0.25</td>\n",
       "      <td>0.0</td>\n",
       "      <td>0.00</td>\n",
       "      <td>-0.277778</td>\n",
       "      <td>-0.253320</td>\n",
       "      <td>-0.277937</td>\n",
       "      <td>0.000000</td>\n",
       "      <td>0.0</td>\n",
       "      <td>0.571429</td>\n",
       "      <td>0.0</td>\n",
       "    </tr>\n",
       "    <tr>\n",
       "      <th>53</th>\n",
       "      <td>0.0</td>\n",
       "      <td>-1.0</td>\n",
       "      <td>-0.705810</td>\n",
       "      <td>-0.36</td>\n",
       "      <td>-0.336798</td>\n",
       "      <td>-0.258065</td>\n",
       "      <td>-0.277136</td>\n",
       "      <td>-0.212766</td>\n",
       "      <td>-0.21875</td>\n",
       "      <td>-0.425532</td>\n",
       "      <td>-0.5</td>\n",
       "      <td>-0.75</td>\n",
       "      <td>-0.50</td>\n",
       "      <td>-0.2</td>\n",
       "      <td>-0.75</td>\n",
       "      <td>-1.000000</td>\n",
       "      <td>-0.375894</td>\n",
       "      <td>-0.839542</td>\n",
       "      <td>0.000000</td>\n",
       "      <td>0.0</td>\n",
       "      <td>-0.857143</td>\n",
       "      <td>1.0</td>\n",
       "    </tr>\n",
       "  </tbody>\n",
       "</table>\n",
       "</div>"
      ],
      "text/plain": [
       "      Education  Marital_status    Income  Recency     Wines    Fruits  \\\n",
       "1673        0.0            -1.0 -0.068759    -0.08  0.663202 -0.096774   \n",
       "1367        1.0             0.0  0.089420     0.50 -0.189189  0.064516   \n",
       "120         0.0             0.0  0.350119    -0.78 -0.114345  1.612903   \n",
       "950         0.0             0.0 -0.335512     0.70 -0.197505 -0.129032   \n",
       "53          0.0            -1.0 -0.705810    -0.36 -0.336798 -0.258065   \n",
       "\n",
       "          Meat      Fish   Sweets      Gold  Deals   Web  Catalog  Store  \\\n",
       "1673  0.064665 -0.106383 -0.25000  1.595745    0.5  0.75     0.00    0.8   \n",
       "1367 -0.157044 -0.021277  0.06250  0.063830    1.0 -0.25    -0.25   -0.2   \n",
       "120   0.023095  1.127660  2.53125  0.702128    1.5  0.25     0.50    0.0   \n",
       "950  -0.101617 -0.255319  0.28125 -0.489362    1.5 -0.50    -0.25    0.0   \n",
       "53   -0.277136 -0.212766 -0.21875 -0.425532   -0.5 -0.75    -0.50   -0.2   \n",
       "\n",
       "      Numwebvisitsmonth       Age  Spending  Seniority  Children  Has_child  \\\n",
       "1673               0.25  1.055556  0.297242  -0.028653  0.000000        0.0   \n",
       "1367               0.00  0.777778 -0.224719   0.017192  0.333333        0.0   \n",
       "120               -0.25  1.000000  0.067416  -0.237822  0.000000        0.0   \n",
       "950                0.00 -0.277778 -0.253320  -0.277937  0.000000        0.0   \n",
       "53                -0.75 -1.000000 -0.375894  -0.839542  0.000000        0.0   \n",
       "\n",
       "      customer_month  customer_year  \n",
       "1673       -0.142857            0.0  \n",
       "1367       -0.142857            0.0  \n",
       "120         0.714286            0.0  \n",
       "950         0.571429            0.0  \n",
       "53         -0.857143            1.0  "
      ]
     },
     "execution_count": 13,
     "metadata": {},
     "output_type": "execute_result"
    }
   ],
   "source": [
    "scaled_data.sample(5) ## show sample from data after scaling"
   ]
  },
  {
   "cell_type": "code",
   "execution_count": 14,
   "id": "58dd9b4e",
   "metadata": {
    "execution": {
     "iopub.execute_input": "2023-11-12T21:47:18.768185Z",
     "iopub.status.busy": "2023-11-12T21:47:18.767328Z",
     "iopub.status.idle": "2023-11-12T21:47:18.773548Z",
     "shell.execute_reply": "2023-11-12T21:47:18.772469Z"
    },
    "papermill": {
     "duration": 0.388016,
     "end_time": "2023-11-12T21:47:18.775748",
     "exception": false,
     "start_time": "2023-11-12T21:47:18.387732",
     "status": "completed"
    },
    "tags": []
   },
   "outputs": [
    {
     "name": "stdout",
     "output_type": "stream",
     "text": [
      "22\n"
     ]
    }
   ],
   "source": [
    "print(len(scaled_data.columns.tolist()))"
   ]
  },
  {
   "cell_type": "markdown",
   "id": "f3ec3e2d",
   "metadata": {
    "papermill": {
     "duration": 0.313219,
     "end_time": "2023-11-12T21:47:19.400855",
     "exception": false,
     "start_time": "2023-11-12T21:47:19.087636",
     "status": "completed"
    },
    "tags": []
   },
   "source": [
    "## <b>4.3 <span style='color:#682F2F'> Dimensionality Reduction </span></b>\n",
    "**Using PCA**\n",
    "- `Dimensionality Reduction` : **Dimensionality reduction refers to techniques that reduce the number of input variables in a dataset.**\n",
    "- `PCA` : **Linear dimensionality reduction using Singular Value Decomposition.**"
   ]
  },
  {
   "cell_type": "code",
   "execution_count": 15,
   "id": "bc16113a",
   "metadata": {
    "execution": {
     "iopub.execute_input": "2023-11-12T21:47:20.067562Z",
     "iopub.status.busy": "2023-11-12T21:47:20.066366Z",
     "iopub.status.idle": "2023-11-12T21:47:20.121612Z",
     "shell.execute_reply": "2023-11-12T21:47:20.118627Z"
    },
    "papermill": {
     "duration": 0.380025,
     "end_time": "2023-11-12T21:47:20.126025",
     "exception": false,
     "start_time": "2023-11-12T21:47:19.746000",
     "status": "completed"
    },
    "tags": []
   },
   "outputs": [],
   "source": [
    "deco_pca = PCA(n_components=None)\n",
    "deco_pca.fit(scaled_data)\n",
    "data_pca = deco_pca.transform(scaled_data)"
   ]
  },
  {
   "cell_type": "code",
   "execution_count": 16,
   "id": "5c53eb23",
   "metadata": {
    "execution": {
     "iopub.execute_input": "2023-11-12T21:47:20.835287Z",
     "iopub.status.busy": "2023-11-12T21:47:20.834855Z",
     "iopub.status.idle": "2023-11-12T21:47:20.842647Z",
     "shell.execute_reply": "2023-11-12T21:47:20.841445Z"
    },
    "papermill": {
     "duration": 0.329523,
     "end_time": "2023-11-12T21:47:20.844885",
     "exception": false,
     "start_time": "2023-11-12T21:47:20.515362",
     "status": "completed"
    },
    "tags": []
   },
   "outputs": [
    {
     "data": {
      "text/plain": [
       "22"
      ]
     },
     "execution_count": 16,
     "metadata": {},
     "output_type": "execute_result"
    }
   ],
   "source": [
    "len(deco_pca.explained_variance_ratio_)"
   ]
  },
  {
   "cell_type": "code",
   "execution_count": 17,
   "id": "7a343385",
   "metadata": {
    "execution": {
     "iopub.execute_input": "2023-11-12T21:47:21.481732Z",
     "iopub.status.busy": "2023-11-12T21:47:21.480730Z",
     "iopub.status.idle": "2023-11-12T21:47:21.901766Z",
     "shell.execute_reply": "2023-11-12T21:47:21.900468Z"
    },
    "papermill": {
     "duration": 0.739741,
     "end_time": "2023-11-12T21:47:21.904996",
     "exception": false,
     "start_time": "2023-11-12T21:47:21.165255",
     "status": "completed"
    },
    "tags": []
   },
   "outputs": [
    {
     "data": {
      "image/png": "[encoded data removed]",
      "text/plain": [
       "<Figure size 1200x800 with 1 Axes>"
      ]
     },
     "metadata": {},
     "output_type": "display_data"
    }
   ],
   "source": [
    "cumsum_pca = np.cumsum(deco_pca.explained_variance_ratio_)\n",
    "plt.plot(cumsum_pca, linestyle='-', marker='o', color=\"k\")\n",
    "plt.title('Cumulative Sum of Explained Variance Ratio')\n",
    "plt.xlabel('Principal Components')\n",
    "plt.ylabel('Cumulative Explained Variance')\n",
    "plt.show()      "
   ]
  },
  {
   "cell_type": "markdown",
   "id": "d7d0cdd1",
   "metadata": {
    "papermill": {
     "duration": 0.320377,
     "end_time": "2023-11-12T21:47:22.547134",
     "exception": false,
     "start_time": "2023-11-12T21:47:22.226757",
     "status": "completed"
    },
    "tags": []
   },
   "source": [
    "**From the chart above, I chose Principal Component = 11**"
   ]
  },
  {
   "cell_type": "code",
   "execution_count": 18,
   "id": "87cb6c0e",
   "metadata": {
    "execution": {
     "iopub.execute_input": "2023-11-12T21:47:23.182966Z",
     "iopub.status.busy": "2023-11-12T21:47:23.182560Z",
     "iopub.status.idle": "2023-11-12T21:47:23.228695Z",
     "shell.execute_reply": "2023-11-12T21:47:23.226898Z"
    },
    "papermill": {
     "duration": 0.36997,
     "end_time": "2023-11-12T21:47:23.232977",
     "exception": false,
     "start_time": "2023-11-12T21:47:22.863007",
     "status": "completed"
    },
    "tags": []
   },
   "outputs": [],
   "source": [
    "deco_pca = PCA(n_components=11)\n",
    "deco_pca.fit(scaled_data)\n",
    "data_pca_final = deco_pca.transform(scaled_data)"
   ]
  },
  {
   "cell_type": "code",
   "execution_count": 19,
   "id": "1a9e14bf",
   "metadata": {
    "execution": {
     "iopub.execute_input": "2023-11-12T21:47:23.951212Z",
     "iopub.status.busy": "2023-11-12T21:47:23.950817Z",
     "iopub.status.idle": "2023-11-12T21:47:23.958010Z",
     "shell.execute_reply": "2023-11-12T21:47:23.956881Z"
    },
    "papermill": {
     "duration": 0.330336,
     "end_time": "2023-11-12T21:47:23.960653",
     "exception": false,
     "start_time": "2023-11-12T21:47:23.630317",
     "status": "completed"
    },
    "tags": []
   },
   "outputs": [
    {
     "data": {
      "text/plain": [
       "(11, np.float64(0.9012358895437163))"
      ]
     },
     "execution_count": 19,
     "metadata": {},
     "output_type": "execute_result"
    }
   ],
   "source": [
    "len(deco_pca.explained_variance_ratio_), sum(deco_pca.explained_variance_ratio_)"
   ]
  },
  {
   "cell_type": "code",
   "execution_count": 20,
   "id": "f20668c6",
   "metadata": {
    "execution": {
     "iopub.execute_input": "2023-11-12T21:47:24.667602Z",
     "iopub.status.busy": "2023-11-12T21:47:24.666764Z",
     "iopub.status.idle": "2023-11-12T21:47:24.672909Z",
     "shell.execute_reply": "2023-11-12T21:47:24.671971Z"
    },
    "papermill": {
     "duration": 0.327573,
     "end_time": "2023-11-12T21:47:24.675248",
     "exception": false,
     "start_time": "2023-11-12T21:47:24.347675",
     "status": "completed"
    },
    "tags": []
   },
   "outputs": [],
   "source": [
    "columns_name = [\"col\"+str(i) for i in range(1,12)] ## list comprehension Contains column names\n",
    "data_pca_final = pd.DataFrame(data_pca_final, columns=(columns_name))"
   ]
  },
  {
   "cell_type": "code",
   "execution_count": 21,
   "id": "76621be3",
   "metadata": {
    "execution": {
     "iopub.execute_input": "2023-11-12T21:47:25.311655Z",
     "iopub.status.busy": "2023-11-12T21:47:25.311207Z",
     "iopub.status.idle": "2023-11-12T21:47:25.331661Z",
     "shell.execute_reply": "2023-11-12T21:47:25.330492Z"
    },
    "papermill": {
     "duration": 0.342837,
     "end_time": "2023-11-12T21:47:25.334567",
     "exception": false,
     "start_time": "2023-11-12T21:47:24.991730",
     "status": "completed"
    },
    "tags": []
   },
   "outputs": [
    {
     "data": {
      "text/html": [
       "<div>\n",
       "<style scoped>\n",
       "    .dataframe tbody tr th:only-of-type {\n",
       "        vertical-align: middle;\n",
       "    }\n",
       "\n",
       "    .dataframe tbody tr th {\n",
       "        vertical-align: top;\n",
       "    }\n",
       "\n",
       "    .dataframe thead th {\n",
       "        text-align: right;\n",
       "    }\n",
       "</style>\n",
       "<table border=\"1\" class=\"dataframe\">\n",
       "  <thead>\n",
       "    <tr style=\"text-align: right;\">\n",
       "      <th></th>\n",
       "      <th>col1</th>\n",
       "      <th>col2</th>\n",
       "      <th>col3</th>\n",
       "      <th>col4</th>\n",
       "      <th>col5</th>\n",
       "      <th>col6</th>\n",
       "      <th>col7</th>\n",
       "      <th>col8</th>\n",
       "      <th>col9</th>\n",
       "      <th>col10</th>\n",
       "      <th>col11</th>\n",
       "    </tr>\n",
       "  </thead>\n",
       "  <tbody>\n",
       "    <tr>\n",
       "      <th>0</th>\n",
       "      <td>4.679482</td>\n",
       "      <td>0.818445</td>\n",
       "      <td>0.811301</td>\n",
       "      <td>-0.470864</td>\n",
       "      <td>0.482560</td>\n",
       "      <td>-1.073886</td>\n",
       "      <td>1.080451</td>\n",
       "      <td>0.132266</td>\n",
       "      <td>0.804951</td>\n",
       "      <td>-0.154345</td>\n",
       "      <td>-0.170197</td>\n",
       "    </tr>\n",
       "    <tr>\n",
       "      <th>1</th>\n",
       "      <td>-2.143009</td>\n",
       "      <td>-0.978834</td>\n",
       "      <td>-0.423638</td>\n",
       "      <td>0.121151</td>\n",
       "      <td>-0.206887</td>\n",
       "      <td>0.813757</td>\n",
       "      <td>0.184513</td>\n",
       "      <td>0.207483</td>\n",
       "      <td>0.775722</td>\n",
       "      <td>-0.438854</td>\n",
       "      <td>0.113679</td>\n",
       "    </tr>\n",
       "    <tr>\n",
       "      <th>2</th>\n",
       "      <td>1.440350</td>\n",
       "      <td>-0.488751</td>\n",
       "      <td>-0.180803</td>\n",
       "      <td>0.431912</td>\n",
       "      <td>0.445780</td>\n",
       "      <td>0.011351</td>\n",
       "      <td>0.748987</td>\n",
       "      <td>1.351057</td>\n",
       "      <td>-0.652356</td>\n",
       "      <td>-0.166712</td>\n",
       "      <td>-0.556251</td>\n",
       "    </tr>\n",
       "    <tr>\n",
       "      <th>3</th>\n",
       "      <td>-2.175752</td>\n",
       "      <td>-0.961360</td>\n",
       "      <td>0.176838</td>\n",
       "      <td>0.174282</td>\n",
       "      <td>-0.089113</td>\n",
       "      <td>0.629093</td>\n",
       "      <td>0.299922</td>\n",
       "      <td>-0.518280</td>\n",
       "      <td>-0.784210</td>\n",
       "      <td>-0.179893</td>\n",
       "      <td>-0.230192</td>\n",
       "    </tr>\n",
       "    <tr>\n",
       "      <th>4</th>\n",
       "      <td>-0.137429</td>\n",
       "      <td>0.141801</td>\n",
       "      <td>0.383903</td>\n",
       "      <td>-0.514792</td>\n",
       "      <td>0.376567</td>\n",
       "      <td>1.643434</td>\n",
       "      <td>0.620036</td>\n",
       "      <td>-0.641796</td>\n",
       "      <td>-0.308710</td>\n",
       "      <td>1.100175</td>\n",
       "      <td>0.084895</td>\n",
       "    </tr>\n",
       "  </tbody>\n",
       "</table>\n",
       "</div>"
      ],
      "text/plain": [
       "       col1      col2      col3      col4      col5      col6      col7  \\\n",
       "0  4.679482  0.818445  0.811301 -0.470864  0.482560 -1.073886  1.080451   \n",
       "1 -2.143009 -0.978834 -0.423638  0.121151 -0.206887  0.813757  0.184513   \n",
       "2  1.440350 -0.488751 -0.180803  0.431912  0.445780  0.011351  0.748987   \n",
       "3 -2.175752 -0.961360  0.176838  0.174282 -0.089113  0.629093  0.299922   \n",
       "4 -0.137429  0.141801  0.383903 -0.514792  0.376567  1.643434  0.620036   \n",
       "\n",
       "       col8      col9     col10     col11  \n",
       "0  0.132266  0.804951 -0.154345 -0.170197  \n",
       "1  0.207483  0.775722 -0.438854  0.113679  \n",
       "2  1.351057 -0.652356 -0.166712 -0.556251  \n",
       "3 -0.518280 -0.784210 -0.179893 -0.230192  \n",
       "4 -0.641796 -0.308710  1.100175  0.084895  "
      ]
     },
     "execution_count": 21,
     "metadata": {},
     "output_type": "execute_result"
    }
   ],
   "source": [
    "data_pca_final.head()"
   ]
  },
  {
   "cell_type": "code",
   "execution_count": 22,
   "id": "b4ac5bbf",
   "metadata": {},
   "outputs": [],
   "source": [
    "data_pca_final.to_csv(\"output/04_model_data.csv\", index=False)"
   ]
  },
  {
   "cell_type": "code",
   "execution_count": 23,
   "id": "b9604745",
   "metadata": {},
   "outputs": [],
   "source": [
    "df_final.to_csv(\"output/final_data.csv\", index=False)"
   ]
  },
  {
   "cell_type": "markdown",
   "id": "efdeeda2",
   "metadata": {
    "papermill": {
     "duration": 0.318304,
     "end_time": "2023-11-12T21:47:25.977922",
     "exception": false,
     "start_time": "2023-11-12T21:47:25.659618",
     "status": "completed"
    },
    "tags": []
   },
   "source": [
    "---------------"
   ]
  }
 ],
 "metadata": {
  "kernelspec": {
   "display_name": "Python 3",
   "language": "python",
   "name": "python3"
  },
  "language_info": {
   "codemirror_mode": {
    "name": "ipython",
    "version": 3
   },
   "file_extension": ".py",
   "mimetype": "text/x-python",
   "name": "python",
   "nbconvert_exporter": "python",
   "pygments_lexer": "ipython3",
   "version": "3.13.2"
  },
  "papermill": {
   "default_parameters": {},
   "duration": 139.516909,
   "end_time": "2023-11-12T21:48:00.479739",
   "environment_variables": {},
   "exception": null,
   "input_path": "__notebook__.ipynb",
   "output_path": "__notebook__.ipynb",
   "parameters": {},
   "start_time": "2023-11-12T21:45:40.962830",
   "version": "2.4.0"
  }
 },
 "nbformat": 4,
 "nbformat_minor": 5
}
