{
 "cells": [
  {
   "cell_type": "markdown",
   "id": "3e06f052",
   "metadata": {
    "papermill": {
     "duration": 0.066748,
     "end_time": "2023-11-12T21:45:44.558451",
     "exception": false,
     "start_time": "2023-11-12T21:45:44.491703",
     "status": "completed"
    },
    "tags": []
   },
   "source": [
    "<div style=\"padding:20px;\n",
    "            color:black;\n",
    "            margin:10;\n",
    "            font-size:200%;\n",
    "            text-align:center;\n",
    "            display:fill;\n",
    "            border-radius:5px;\n",
    "            background-color:#D6B2B1;\n",
    "            overflow:hidden;\n",
    "            font-weight:700\">Customer Personality Analysis</div>"
   ]
  },
  {
   "cell_type": "markdown",
   "id": "0a7db590",
   "metadata": {
    "papermill": {
     "duration": 0.064538,
     "end_time": "2023-11-12T21:45:44.752077",
     "exception": false,
     "start_time": "2023-11-12T21:45:44.687539",
     "status": "completed"
    },
    "tags": []
   },
   "source": [
    "**DataSet Link : https://www.kaggle.com/datasets/imakash3011/customer-personality-analysis**"
   ]
  },
  {
   "cell_type": "markdown",
   "id": "7f3228af",
   "metadata": {
    "papermill": {
     "duration": 0.064236,
     "end_time": "2023-11-12T21:45:45.010085",
     "exception": false,
     "start_time": "2023-11-12T21:45:44.945849",
     "status": "completed"
    },
    "tags": []
   },
   "source": [
    "### `Import Libraries`"
   ]
  },
  {
   "cell_type": "code",
   "execution_count": 1,
   "id": "283b49ff",
   "metadata": {
    "execution": {
     "iopub.execute_input": "2023-11-12T21:45:45.140739Z",
     "iopub.status.busy": "2023-11-12T21:45:45.140300Z",
     "iopub.status.idle": "2023-11-12T21:45:50.361145Z",
     "shell.execute_reply": "2023-11-12T21:45:50.359948Z"
    },
    "papermill": {
     "duration": 5.289548,
     "end_time": "2023-11-12T21:45:50.363799",
     "exception": false,
     "start_time": "2023-11-12T21:45:45.074251",
     "status": "completed"
    },
    "tags": []
   },
   "outputs": [
    {
     "data": {
      "text/html": [
       "        <script type=\"text/javascript\">\n",
       "        window.PlotlyConfig = {MathJaxConfig: 'local'};\n",
       "        if (window.MathJax && window.MathJax.Hub && window.MathJax.Hub.Config) {window.MathJax.Hub.Config({SVG: {font: \"STIX-Web\"}});}\n",
       "        </script>\n",
       "        <script type=\"module\">import \"https://cdn.plot.ly/plotly-3.0.0.min\"</script>\n",
       "        "
      ]
     },
     "metadata": {},
     "output_type": "display_data"
    }
   ],
   "source": [
    "## main Libraries\n",
    "import numpy as np\n",
    "import pandas as pd\n",
    "\n",
    "## Datetime , i will need it in feature engineering step\n",
    "from datetime import date\n",
    "\n",
    "## Vis. Libraries\n",
    "import missingno as msno\n",
    "import seaborn as sns\n",
    "import matplotlib.pyplot as plt\n",
    "import plotly.express as px\n",
    "import plotly.graph_objects as go\n",
    "import plotly.io as pio\n",
    "from plotly.offline import init_notebook_mode, iplot\n",
    "from yellowbrick.cluster import KElbowVisualizer\n",
    "\n",
    "## preprocessing Libraries\n",
    "from sklearn.preprocessing import LabelEncoder, RobustScaler\n",
    "\n",
    "## decomposition\n",
    "from sklearn.decomposition import PCA\n",
    "\n",
    "## CLustering\n",
    "from sklearn.cluster import KMeans ##, AgglomerativeClustering\n",
    "## ignore warnings\n",
    "import warnings\n",
    "warnings.filterwarnings('ignore')\n",
    "\n",
    "## setting some Libraries\n",
    "pd.set_option('display.max_columns', None)\n",
    "sns.set(rc={\"figure.figsize\" : [12,8]}, font_scale=1.2 , style='darkgrid')\n",
    "## Set the figure and axes face color\n",
    "sns.set(rc={\"axes.facecolor\": \"#FFE4D9\", \"figure.facecolor\": \"#FFE4D9\"})\n",
    "## custom palette\n",
    "custom_palette = [\"#682F2F\", \"#9E726F\", \"#D6B2B1\", \"#B9C0C9\", \"#9F8A78\", \"#F3AB60\"]\n",
    "sns.set_palette(custom_palette)\n",
    "pio.templates.default = \"ggplot2\"\n",
    "init_notebook_mode(connected=True)"
   ]
  },
  {
   "cell_type": "markdown",
   "id": "70424fd1",
   "metadata": {
    "papermill": {
     "duration": 0.064578,
     "end_time": "2023-11-12T21:45:50.493240",
     "exception": false,
     "start_time": "2023-11-12T21:45:50.428662",
     "status": "completed"
    },
    "tags": []
   },
   "source": [
    "### `Load Data`"
   ]
  },
  {
   "cell_type": "code",
   "execution_count": 2,
   "id": "e7265450",
   "metadata": {},
   "outputs": [],
   "source": [
    "df = pd.read_csv(\"output/01_data_overview.csv\")"
   ]
  },
  {
   "cell_type": "markdown",
   "id": "a11a9ba7",
   "metadata": {
    "papermill": {
     "duration": 0.065808,
     "end_time": "2023-11-12T21:45:52.163766",
     "exception": false,
     "start_time": "2023-11-12T21:45:52.097958",
     "status": "completed"
    },
    "tags": []
   },
   "source": [
    "<a id=\"1\"></a>\n",
    "<div style=\"padding:20px;\n",
    "            color:black;\n",
    "            margin:10;\n",
    "            font-size:170%;\n",
    "            text-align:left;\n",
    "            display:fill;\n",
    "            border-radius:5px;\n",
    "            background-color:#D6B2B1;\n",
    "            overflow:hidden;\n",
    "            font-weight:700\">2 <span style='color:#CDA63A'>|</span> Data Preprocessing\n",
    "</div>"
   ]
  },
  {
   "cell_type": "markdown",
   "id": "e4eb6ef6",
   "metadata": {
    "papermill": {
     "duration": 0.065966,
     "end_time": "2023-11-12T21:45:52.296744",
     "exception": false,
     "start_time": "2023-11-12T21:45:52.230778",
     "status": "completed"
    },
    "tags": []
   },
   "source": [
    "## <b>2.1 <span style='color:#682F2F'>Data Cleaning</span></b>"
   ]
  },
  {
   "cell_type": "code",
   "execution_count": 3,
   "id": "d82136c1",
   "metadata": {
    "execution": {
     "iopub.execute_input": "2023-11-12T21:45:52.431093Z",
     "iopub.status.busy": "2023-11-12T21:45:52.430670Z",
     "iopub.status.idle": "2023-11-12T21:45:52.454223Z",
     "shell.execute_reply": "2023-11-12T21:45:52.453293Z"
    },
    "papermill": {
     "duration": 0.093534,
     "end_time": "2023-11-12T21:45:52.456806",
     "exception": false,
     "start_time": "2023-11-12T21:45:52.363272",
     "status": "completed"
    },
    "tags": []
   },
   "outputs": [
    {
     "name": "stdout",
     "output_type": "stream",
     "text": [
      "<class 'pandas.core.frame.DataFrame'>\n",
      "RangeIndex: 2240 entries, 0 to 2239\n",
      "Data columns (total 29 columns):\n",
      " #   Column               Non-Null Count  Dtype  \n",
      "---  ------               --------------  -----  \n",
      " 0   ID                   2240 non-null   int64  \n",
      " 1   Year_Birth           2240 non-null   int64  \n",
      " 2   Education            2240 non-null   object \n",
      " 3   Marital_Status       2240 non-null   object \n",
      " 4   Income               2216 non-null   float64\n",
      " 5   Kidhome              2240 non-null   int64  \n",
      " 6   Teenhome             2240 non-null   int64  \n",
      " 7   Dt_Customer          2240 non-null   object \n",
      " 8   Recency              2240 non-null   int64  \n",
      " 9   MntWines             2240 non-null   int64  \n",
      " 10  MntFruits            2240 non-null   int64  \n",
      " 11  MntMeatProducts      2240 non-null   int64  \n",
      " 12  MntFishProducts      2240 non-null   int64  \n",
      " 13  MntSweetProducts     2240 non-null   int64  \n",
      " 14  MntGoldProds         2240 non-null   int64  \n",
      " 15  NumDealsPurchases    2240 non-null   int64  \n",
      " 16  NumWebPurchases      2240 non-null   int64  \n",
      " 17  NumCatalogPurchases  2240 non-null   int64  \n",
      " 18  NumStorePurchases    2240 non-null   int64  \n",
      " 19  NumWebVisitsMonth    2240 non-null   int64  \n",
      " 20  AcceptedCmp3         2240 non-null   int64  \n",
      " 21  AcceptedCmp4         2240 non-null   int64  \n",
      " 22  AcceptedCmp5         2240 non-null   int64  \n",
      " 23  AcceptedCmp1         2240 non-null   int64  \n",
      " 24  AcceptedCmp2         2240 non-null   int64  \n",
      " 25  Complain             2240 non-null   int64  \n",
      " 26  Z_CostContact        2240 non-null   int64  \n",
      " 27  Z_Revenue            2240 non-null   int64  \n",
      " 28  Response             2240 non-null   int64  \n",
      "dtypes: float64(1), int64(25), object(3)\n",
      "memory usage: 507.6+ KB\n"
     ]
    }
   ],
   "source": [
    "df.info()"
   ]
  },
  {
   "cell_type": "markdown",
   "id": "1dccb20a",
   "metadata": {
    "papermill": {
     "duration": 0.068694,
     "end_time": "2023-11-12T21:45:52.591972",
     "exception": false,
     "start_time": "2023-11-12T21:45:52.523278",
     "status": "completed"
    },
    "tags": []
   },
   "source": [
    "<div class=\"alert alert-block alert-info\" style=\"background-color:#D6B2B1;\n",
    "                                                 color:black;\n",
    "                                                 border-color:black;\n",
    "                                                 border-radius:5px;\n",
    "                                                 width:60%;\n",
    "                                                 margin: auto;\n",
    "                                                 text-align: left;\">\n",
    "<b>Note : </b>Dt_Customer Column Data type is Object, I will Convert it to Datatime Datatype.</div>"
   ]
  },
  {
   "cell_type": "code",
   "execution_count": 4,
   "id": "ce838ff7",
   "metadata": {
    "execution": {
     "iopub.execute_input": "2023-11-12T21:45:52.727731Z",
     "iopub.status.busy": "2023-11-12T21:45:52.727036Z",
     "iopub.status.idle": "2023-11-12T21:45:52.749195Z",
     "shell.execute_reply": "2023-11-12T21:45:52.748311Z"
    },
    "papermill": {
     "duration": 0.092678,
     "end_time": "2023-11-12T21:45:52.751661",
     "exception": false,
     "start_time": "2023-11-12T21:45:52.658983",
     "status": "completed"
    },
    "tags": []
   },
   "outputs": [],
   "source": [
    "df[\"Dt_Customer\"] = pd.to_datetime(df[\"Dt_Customer\"], format=\"%d-%m-%Y\", errors=\"coerce\")\n",
    "## 'coerce' invalid parsing will be set as NaT."
   ]
  },
  {
   "cell_type": "code",
   "execution_count": 5,
   "id": "14346ed8",
   "metadata": {
    "execution": {
     "iopub.execute_input": "2023-11-12T21:45:52.886993Z",
     "iopub.status.busy": "2023-11-12T21:45:52.886338Z",
     "iopub.status.idle": "2023-11-12T21:45:52.895858Z",
     "shell.execute_reply": "2023-11-12T21:45:52.894595Z"
    },
    "papermill": {
     "duration": 0.079827,
     "end_time": "2023-11-12T21:45:52.898132",
     "exception": false,
     "start_time": "2023-11-12T21:45:52.818305",
     "status": "completed"
    },
    "tags": []
   },
   "outputs": [
    {
     "name": "stdout",
     "output_type": "stream",
     "text": [
      "<class 'pandas.core.series.Series'>\n",
      "RangeIndex: 2240 entries, 0 to 2239\n",
      "Series name: Dt_Customer\n",
      "Non-Null Count  Dtype         \n",
      "--------------  -----         \n",
      "2240 non-null   datetime64[ns]\n",
      "dtypes: datetime64[ns](1)\n",
      "memory usage: 17.6 KB\n"
     ]
    }
   ],
   "source": [
    "df[\"Dt_Customer\"].info()"
   ]
  },
  {
   "cell_type": "markdown",
   "id": "964e7a4a",
   "metadata": {
    "papermill": {
     "duration": 0.066514,
     "end_time": "2023-11-12T21:45:53.032520",
     "exception": false,
     "start_time": "2023-11-12T21:45:52.966006",
     "status": "completed"
    },
    "tags": []
   },
   "source": [
    "### `Null Values`"
   ]
  },
  {
   "cell_type": "code",
   "execution_count": 6,
   "id": "b2acaf3c",
   "metadata": {
    "execution": {
     "iopub.execute_input": "2023-11-12T21:45:53.168531Z",
     "iopub.status.busy": "2023-11-12T21:45:53.168112Z",
     "iopub.status.idle": "2023-11-12T21:45:54.247569Z",
     "shell.execute_reply": "2023-11-12T21:45:54.246353Z"
    },
    "papermill": {
     "duration": 1.151984,
     "end_time": "2023-11-12T21:45:54.251725",
     "exception": false,
     "start_time": "2023-11-12T21:45:53.099741",
     "status": "completed"
    },
    "tags": []
   },
   "outputs": [
    {
     "data": {
      "image/png": "[encoded data removed]",
      "text/plain": [
       "<Figure size 2500x1000 with 2 Axes>"
      ]
     },
     "metadata": {},
     "output_type": "display_data"
    }
   ],
   "source": [
    "msno.matrix(df) \n",
    "plt.title(\"Null Value graph.\", fontsize=20, weight=\"bold\")\n",
    "plt.show()"
   ]
  },
  {
   "cell_type": "code",
   "execution_count": 7,
   "id": "72fc06a8",
   "metadata": {
    "execution": {
     "iopub.execute_input": "2023-11-12T21:45:54.392423Z",
     "iopub.status.busy": "2023-11-12T21:45:54.391675Z",
     "iopub.status.idle": "2023-11-12T21:45:54.403842Z",
     "shell.execute_reply": "2023-11-12T21:45:54.402734Z"
    },
    "papermill": {
     "duration": 0.085069,
     "end_time": "2023-11-12T21:45:54.406300",
     "exception": false,
     "start_time": "2023-11-12T21:45:54.321231",
     "status": "completed"
    },
    "tags": []
   },
   "outputs": [
    {
     "data": {
      "text/plain": [
       "ID                     0.000000\n",
       "Year_Birth             0.000000\n",
       "Education              0.000000\n",
       "Marital_Status         0.000000\n",
       "Income                 1.071429\n",
       "Kidhome                0.000000\n",
       "Teenhome               0.000000\n",
       "Dt_Customer            0.000000\n",
       "Recency                0.000000\n",
       "MntWines               0.000000\n",
       "MntFruits              0.000000\n",
       "MntMeatProducts        0.000000\n",
       "MntFishProducts        0.000000\n",
       "MntSweetProducts       0.000000\n",
       "MntGoldProds           0.000000\n",
       "NumDealsPurchases      0.000000\n",
       "NumWebPurchases        0.000000\n",
       "NumCatalogPurchases    0.000000\n",
       "NumStorePurchases      0.000000\n",
       "NumWebVisitsMonth      0.000000\n",
       "AcceptedCmp3           0.000000\n",
       "AcceptedCmp4           0.000000\n",
       "AcceptedCmp5           0.000000\n",
       "AcceptedCmp1           0.000000\n",
       "AcceptedCmp2           0.000000\n",
       "Complain               0.000000\n",
       "Z_CostContact          0.000000\n",
       "Z_Revenue              0.000000\n",
       "Response               0.000000\n",
       "dtype: float64"
      ]
     },
     "execution_count": 7,
     "metadata": {},
     "output_type": "execute_result"
    }
   ],
   "source": [
    "(df.isna().sum() / df.shape[0]) * 100"
   ]
  },
  {
   "cell_type": "markdown",
   "id": "fb930511",
   "metadata": {
    "papermill": {
     "duration": 0.07055,
     "end_time": "2023-11-12T21:45:54.546302",
     "exception": false,
     "start_time": "2023-11-12T21:45:54.475752",
     "status": "completed"
    },
    "tags": []
   },
   "source": [
    "##### `Income Column has Missing Values`"
   ]
  },
  {
   "cell_type": "code",
   "execution_count": 8,
   "id": "533733f9",
   "metadata": {
    "execution": {
     "iopub.execute_input": "2023-11-12T21:45:54.689571Z",
     "iopub.status.busy": "2023-11-12T21:45:54.689148Z",
     "iopub.status.idle": "2023-11-12T21:45:54.700655Z",
     "shell.execute_reply": "2023-11-12T21:45:54.699467Z"
    },
    "papermill": {
     "duration": 0.085181,
     "end_time": "2023-11-12T21:45:54.702846",
     "exception": false,
     "start_time": "2023-11-12T21:45:54.617665",
     "status": "completed"
    },
    "tags": []
   },
   "outputs": [
    {
     "data": {
      "text/plain": [
       "count      2216.000000\n",
       "mean      52247.251354\n",
       "std       25173.076661\n",
       "min        1730.000000\n",
       "25%       35303.000000\n",
       "50%       51381.500000\n",
       "75%       68522.000000\n",
       "max      666666.000000\n",
       "Name: Income, dtype: float64"
      ]
     },
     "execution_count": 8,
     "metadata": {},
     "output_type": "execute_result"
    }
   ],
   "source": [
    "df[\"Income\"].describe()"
   ]
  },
  {
   "cell_type": "code",
   "execution_count": 9,
   "id": "e7929f44",
   "metadata": {
    "execution": {
     "iopub.execute_input": "2023-11-12T21:45:54.845259Z",
     "iopub.status.busy": "2023-11-12T21:45:54.844605Z",
     "iopub.status.idle": "2023-11-12T21:45:55.136939Z",
     "shell.execute_reply": "2023-11-12T21:45:55.135822Z"
    },
    "papermill": {
     "duration": 0.366588,
     "end_time": "2023-11-12T21:45:55.139408",
     "exception": false,
     "start_time": "2023-11-12T21:45:54.772820",
     "status": "completed"
    },
    "tags": []
   },
   "outputs": [
    {
     "data": {
      "image/png": "[encoded data removed]",
      "text/plain": [
       "<Figure size 1200x800 with 1 Axes>"
      ]
     },
     "metadata": {},
     "output_type": "display_data"
    }
   ],
   "source": [
    "sns.boxplot(y=\"Income\", data=df)\n",
    "plt.title(\"Income BoxPlot\", weight=\"bold\")\n",
    "plt.show()"
   ]
  },
  {
   "cell_type": "code",
   "execution_count": 10,
   "id": "a761aef6",
   "metadata": {
    "execution": {
     "iopub.execute_input": "2023-11-12T21:45:55.282181Z",
     "iopub.status.busy": "2023-11-12T21:45:55.281501Z",
     "iopub.status.idle": "2023-11-12T21:45:55.983062Z",
     "shell.execute_reply": "2023-11-12T21:45:55.981848Z"
    },
    "papermill": {
     "duration": 0.775862,
     "end_time": "2023-11-12T21:45:55.985786",
     "exception": false,
     "start_time": "2023-11-12T21:45:55.209924",
     "status": "completed"
    },
    "tags": []
   },
   "outputs": [
    {
     "data": {
      "image/png": "[encoded data removed]",
      "text/plain": [
       "<Figure size 1200x800 with 1 Axes>"
      ]
     },
     "metadata": {},
     "output_type": "display_data"
    }
   ],
   "source": [
    "sns.barplot(x=\"Education\", y=\"Income\", data=df)\n",
    "plt.title(\"mean of Income by Education level\".title() , weight=\"bold\")\n",
    "plt.show()"
   ]
  },
  {
   "cell_type": "markdown",
   "id": "c9d9df61",
   "metadata": {
    "papermill": {
     "duration": 0.071363,
     "end_time": "2023-11-12T21:45:56.129092",
     "exception": false,
     "start_time": "2023-11-12T21:45:56.057729",
     "status": "completed"
    },
    "tags": []
   },
   "source": [
    "### `Imputing by Sub-Group`"
   ]
  },
  {
   "cell_type": "code",
   "execution_count": 11,
   "id": "5475031e",
   "metadata": {
    "execution": {
     "iopub.execute_input": "2023-11-12T21:45:56.274443Z",
     "iopub.status.busy": "2023-11-12T21:45:56.274023Z",
     "iopub.status.idle": "2023-11-12T21:45:56.282807Z",
     "shell.execute_reply": "2023-11-12T21:45:56.281771Z"
    },
    "papermill": {
     "duration": 0.084069,
     "end_time": "2023-11-12T21:45:56.285424",
     "exception": false,
     "start_time": "2023-11-12T21:45:56.201355",
     "status": "completed"
    },
    "tags": []
   },
   "outputs": [
    {
     "data": {
      "text/plain": [
       "{'2n Cycle': 46805.0,\n",
       " 'Basic': 20744.0,\n",
       " 'Graduation': 52028.5,\n",
       " 'Master': 50943.0,\n",
       " 'PhD': 55212.0}"
      ]
     },
     "execution_count": 11,
     "metadata": {},
     "output_type": "execute_result"
    }
   ],
   "source": [
    "income_imputer = df.groupby(\"Education\")[\"Income\"].median().to_dict()\n",
    "income_imputer"
   ]
  },
  {
   "cell_type": "code",
   "execution_count": 12,
   "id": "e9df59ba",
   "metadata": {
    "execution": {
     "iopub.execute_input": "2023-11-12T21:45:56.430263Z",
     "iopub.status.busy": "2023-11-12T21:45:56.429832Z",
     "iopub.status.idle": "2023-11-12T21:45:56.439112Z",
     "shell.execute_reply": "2023-11-12T21:45:56.438251Z"
    },
    "papermill": {
     "duration": 0.084651,
     "end_time": "2023-11-12T21:45:56.441221",
     "exception": false,
     "start_time": "2023-11-12T21:45:56.356570",
     "status": "completed"
    },
    "tags": []
   },
   "outputs": [],
   "source": [
    "df[\"Income\"] = df[\"Income\"].fillna(df[\"Income\"].map(income_imputer))"
   ]
  },
  {
   "cell_type": "markdown",
   "id": "286c30fc",
   "metadata": {
    "papermill": {
     "duration": 0.073562,
     "end_time": "2023-11-12T21:45:56.585888",
     "exception": false,
     "start_time": "2023-11-12T21:45:56.512326",
     "status": "completed"
    },
    "tags": []
   },
   "source": [
    "<div class=\"alert alert-block alert-info\" style=\"background-color:#D6B2B1;\n",
    "                                                 color:black;\n",
    "                                                 border-color:black;\n",
    "                                                 border-radius:5px;\n",
    "                                                 width:60%;\n",
    "                                                 margin: auto;\n",
    "                                                 text-align: left;\">\n",
    "<b>Note : </b> i filled Missing Values in Income Column with median by Education Level as Sub-Group. i did it because there is outliers and Income varies depending on the level of education.</div>"
   ]
  },
  {
   "cell_type": "markdown",
   "id": "b6d23eaf",
   "metadata": {
    "papermill": {
     "duration": 0.070902,
     "end_time": "2023-11-12T21:45:56.728180",
     "exception": false,
     "start_time": "2023-11-12T21:45:56.657278",
     "status": "completed"
    },
    "tags": []
   },
   "source": [
    "### `Duplicated`"
   ]
  },
  {
   "cell_type": "code",
   "execution_count": 13,
   "id": "cc60ad12",
   "metadata": {
    "execution": {
     "iopub.execute_input": "2023-11-12T21:45:56.873464Z",
     "iopub.status.busy": "2023-11-12T21:45:56.872740Z",
     "iopub.status.idle": "2023-11-12T21:45:56.887342Z",
     "shell.execute_reply": "2023-11-12T21:45:56.885893Z"
    },
    "papermill": {
     "duration": 0.089729,
     "end_time": "2023-11-12T21:45:56.889762",
     "exception": false,
     "start_time": "2023-11-12T21:45:56.800033",
     "status": "completed"
    },
    "tags": []
   },
   "outputs": [
    {
     "data": {
      "text/plain": [
       "np.int64(0)"
      ]
     },
     "execution_count": 13,
     "metadata": {},
     "output_type": "execute_result"
    }
   ],
   "source": [
    "df.duplicated().sum()"
   ]
  },
  {
   "cell_type": "markdown",
   "id": "37e9c39b",
   "metadata": {
    "papermill": {
     "duration": 0.071229,
     "end_time": "2023-11-12T21:45:57.032167",
     "exception": false,
     "start_time": "2023-11-12T21:45:56.960938",
     "status": "completed"
    },
    "tags": []
   },
   "source": [
    "<div class=\"alert alert-block alert-info\" style=\"background-color:#D6B2B1;\n",
    "                                                 color:black;\n",
    "                                                 border-color:black;\n",
    "                                                 border-radius:5px;\n",
    "                                                 width:25%;\n",
    "                                                 margin: auto;\n",
    "                                                 text-align: left;\">\n",
    "<b>Note : </b> No Duplicate Values.. </div>"
   ]
  },
  {
   "cell_type": "markdown",
   "id": "776b18b8",
   "metadata": {
    "papermill": {
     "duration": 0.071182,
     "end_time": "2023-11-12T21:45:57.174868",
     "exception": false,
     "start_time": "2023-11-12T21:45:57.103686",
     "status": "completed"
    },
    "tags": []
   },
   "source": [
    "## <b>2.2 <span style='color:#682F2F'>Feature Engineering (Extraction) and Data Preparation</span></b>"
   ]
  },
  {
   "cell_type": "code",
   "execution_count": 14,
   "id": "de19937e",
   "metadata": {
    "execution": {
     "iopub.execute_input": "2023-11-12T21:45:57.319650Z",
     "iopub.status.busy": "2023-11-12T21:45:57.318948Z",
     "iopub.status.idle": "2023-11-12T21:45:57.344522Z",
     "shell.execute_reply": "2023-11-12T21:45:57.343400Z"
    },
    "papermill": {
     "duration": 0.101337,
     "end_time": "2023-11-12T21:45:57.347106",
     "exception": false,
     "start_time": "2023-11-12T21:45:57.245769",
     "status": "completed"
    },
    "tags": []
   },
   "outputs": [
    {
     "data": {
      "text/html": [
       "<div>\n",
       "<style scoped>\n",
       "    .dataframe tbody tr th:only-of-type {\n",
       "        vertical-align: middle;\n",
       "    }\n",
       "\n",
       "    .dataframe tbody tr th {\n",
       "        vertical-align: top;\n",
       "    }\n",
       "\n",
       "    .dataframe thead th {\n",
       "        text-align: right;\n",
       "    }\n",
       "</style>\n",
       "<table border=\"1\" class=\"dataframe\">\n",
       "  <thead>\n",
       "    <tr style=\"text-align: right;\">\n",
       "      <th></th>\n",
       "      <th>ID</th>\n",
       "      <th>Year_Birth</th>\n",
       "      <th>Education</th>\n",
       "      <th>Marital_Status</th>\n",
       "      <th>Income</th>\n",
       "      <th>Kidhome</th>\n",
       "      <th>Teenhome</th>\n",
       "      <th>Dt_Customer</th>\n",
       "      <th>Recency</th>\n",
       "      <th>MntWines</th>\n",
       "      <th>MntFruits</th>\n",
       "      <th>MntMeatProducts</th>\n",
       "      <th>MntFishProducts</th>\n",
       "      <th>MntSweetProducts</th>\n",
       "      <th>MntGoldProds</th>\n",
       "      <th>NumDealsPurchases</th>\n",
       "      <th>NumWebPurchases</th>\n",
       "      <th>NumCatalogPurchases</th>\n",
       "      <th>NumStorePurchases</th>\n",
       "      <th>NumWebVisitsMonth</th>\n",
       "      <th>AcceptedCmp3</th>\n",
       "      <th>AcceptedCmp4</th>\n",
       "      <th>AcceptedCmp5</th>\n",
       "      <th>AcceptedCmp1</th>\n",
       "      <th>AcceptedCmp2</th>\n",
       "      <th>Complain</th>\n",
       "      <th>Z_CostContact</th>\n",
       "      <th>Z_Revenue</th>\n",
       "      <th>Response</th>\n",
       "    </tr>\n",
       "  </thead>\n",
       "  <tbody>\n",
       "    <tr>\n",
       "      <th>1704</th>\n",
       "      <td>7349</td>\n",
       "      <td>1973</td>\n",
       "      <td>Basic</td>\n",
       "      <td>Together</td>\n",
       "      <td>9722.0</td>\n",
       "      <td>1</td>\n",
       "      <td>0</td>\n",
       "      <td>2012-10-02</td>\n",
       "      <td>7</td>\n",
       "      <td>6</td>\n",
       "      <td>17</td>\n",
       "      <td>16</td>\n",
       "      <td>6</td>\n",
       "      <td>16</td>\n",
       "      <td>42</td>\n",
       "      <td>4</td>\n",
       "      <td>3</td>\n",
       "      <td>1</td>\n",
       "      <td>3</td>\n",
       "      <td>8</td>\n",
       "      <td>0</td>\n",
       "      <td>0</td>\n",
       "      <td>0</td>\n",
       "      <td>0</td>\n",
       "      <td>0</td>\n",
       "      <td>0</td>\n",
       "      <td>3</td>\n",
       "      <td>11</td>\n",
       "      <td>1</td>\n",
       "    </tr>\n",
       "    <tr>\n",
       "      <th>475</th>\n",
       "      <td>178</td>\n",
       "      <td>1956</td>\n",
       "      <td>Graduation</td>\n",
       "      <td>Married</td>\n",
       "      <td>62503.0</td>\n",
       "      <td>0</td>\n",
       "      <td>1</td>\n",
       "      <td>2013-02-18</td>\n",
       "      <td>40</td>\n",
       "      <td>478</td>\n",
       "      <td>0</td>\n",
       "      <td>193</td>\n",
       "      <td>110</td>\n",
       "      <td>75</td>\n",
       "      <td>117</td>\n",
       "      <td>4</td>\n",
       "      <td>8</td>\n",
       "      <td>3</td>\n",
       "      <td>11</td>\n",
       "      <td>5</td>\n",
       "      <td>0</td>\n",
       "      <td>0</td>\n",
       "      <td>0</td>\n",
       "      <td>0</td>\n",
       "      <td>0</td>\n",
       "      <td>0</td>\n",
       "      <td>3</td>\n",
       "      <td>11</td>\n",
       "      <td>0</td>\n",
       "    </tr>\n",
       "    <tr>\n",
       "      <th>1402</th>\n",
       "      <td>2534</td>\n",
       "      <td>1953</td>\n",
       "      <td>Graduation</td>\n",
       "      <td>Married</td>\n",
       "      <td>37716.0</td>\n",
       "      <td>0</td>\n",
       "      <td>1</td>\n",
       "      <td>2014-04-21</td>\n",
       "      <td>4</td>\n",
       "      <td>97</td>\n",
       "      <td>1</td>\n",
       "      <td>41</td>\n",
       "      <td>6</td>\n",
       "      <td>2</td>\n",
       "      <td>41</td>\n",
       "      <td>2</td>\n",
       "      <td>4</td>\n",
       "      <td>1</td>\n",
       "      <td>3</td>\n",
       "      <td>7</td>\n",
       "      <td>0</td>\n",
       "      <td>0</td>\n",
       "      <td>0</td>\n",
       "      <td>0</td>\n",
       "      <td>0</td>\n",
       "      <td>0</td>\n",
       "      <td>3</td>\n",
       "      <td>11</td>\n",
       "      <td>0</td>\n",
       "    </tr>\n",
       "    <tr>\n",
       "      <th>1976</th>\n",
       "      <td>5117</td>\n",
       "      <td>1963</td>\n",
       "      <td>2n Cycle</td>\n",
       "      <td>Married</td>\n",
       "      <td>32632.0</td>\n",
       "      <td>0</td>\n",
       "      <td>0</td>\n",
       "      <td>2012-08-02</td>\n",
       "      <td>32</td>\n",
       "      <td>63</td>\n",
       "      <td>151</td>\n",
       "      <td>137</td>\n",
       "      <td>153</td>\n",
       "      <td>19</td>\n",
       "      <td>53</td>\n",
       "      <td>2</td>\n",
       "      <td>4</td>\n",
       "      <td>4</td>\n",
       "      <td>8</td>\n",
       "      <td>5</td>\n",
       "      <td>0</td>\n",
       "      <td>0</td>\n",
       "      <td>0</td>\n",
       "      <td>0</td>\n",
       "      <td>0</td>\n",
       "      <td>0</td>\n",
       "      <td>3</td>\n",
       "      <td>11</td>\n",
       "      <td>0</td>\n",
       "    </tr>\n",
       "    <tr>\n",
       "      <th>1680</th>\n",
       "      <td>1215</td>\n",
       "      <td>1978</td>\n",
       "      <td>Graduation</td>\n",
       "      <td>Together</td>\n",
       "      <td>70440.0</td>\n",
       "      <td>0</td>\n",
       "      <td>0</td>\n",
       "      <td>2013-10-08</td>\n",
       "      <td>49</td>\n",
       "      <td>690</td>\n",
       "      <td>117</td>\n",
       "      <td>499</td>\n",
       "      <td>76</td>\n",
       "      <td>102</td>\n",
       "      <td>88</td>\n",
       "      <td>1</td>\n",
       "      <td>5</td>\n",
       "      <td>10</td>\n",
       "      <td>7</td>\n",
       "      <td>3</td>\n",
       "      <td>0</td>\n",
       "      <td>0</td>\n",
       "      <td>0</td>\n",
       "      <td>1</td>\n",
       "      <td>0</td>\n",
       "      <td>0</td>\n",
       "      <td>3</td>\n",
       "      <td>11</td>\n",
       "      <td>0</td>\n",
       "    </tr>\n",
       "  </tbody>\n",
       "</table>\n",
       "</div>"
      ],
      "text/plain": [
       "        ID  Year_Birth   Education Marital_Status   Income  Kidhome  Teenhome  \\\n",
       "1704  7349        1973       Basic       Together   9722.0        1         0   \n",
       "475    178        1956  Graduation        Married  62503.0        0         1   \n",
       "1402  2534        1953  Graduation        Married  37716.0        0         1   \n",
       "1976  5117        1963    2n Cycle        Married  32632.0        0         0   \n",
       "1680  1215        1978  Graduation       Together  70440.0        0         0   \n",
       "\n",
       "     Dt_Customer  Recency  MntWines  MntFruits  MntMeatProducts  \\\n",
       "1704  2012-10-02        7         6         17               16   \n",
       "475   2013-02-18       40       478          0              193   \n",
       "1402  2014-04-21        4        97          1               41   \n",
       "1976  2012-08-02       32        63        151              137   \n",
       "1680  2013-10-08       49       690        117              499   \n",
       "\n",
       "      MntFishProducts  MntSweetProducts  MntGoldProds  NumDealsPurchases  \\\n",
       "1704                6                16            42                  4   \n",
       "475               110                75           117                  4   \n",
       "1402                6                 2            41                  2   \n",
       "1976              153                19            53                  2   \n",
       "1680               76               102            88                  1   \n",
       "\n",
       "      NumWebPurchases  NumCatalogPurchases  NumStorePurchases  \\\n",
       "1704                3                    1                  3   \n",
       "475                 8                    3                 11   \n",
       "1402                4                    1                  3   \n",
       "1976                4                    4                  8   \n",
       "1680                5                   10                  7   \n",
       "\n",
       "      NumWebVisitsMonth  AcceptedCmp3  AcceptedCmp4  AcceptedCmp5  \\\n",
       "1704                  8             0             0             0   \n",
       "475                   5             0             0             0   \n",
       "1402                  7             0             0             0   \n",
       "1976                  5             0             0             0   \n",
       "1680                  3             0             0             0   \n",
       "\n",
       "      AcceptedCmp1  AcceptedCmp2  Complain  Z_CostContact  Z_Revenue  Response  \n",
       "1704             0             0         0              3         11         1  \n",
       "475              0             0         0              3         11         0  \n",
       "1402             0             0         0              3         11         0  \n",
       "1976             0             0         0              3         11         0  \n",
       "1680             1             0         0              3         11         0  "
      ]
     },
     "execution_count": 14,
     "metadata": {},
     "output_type": "execute_result"
    }
   ],
   "source": [
    "df.sample(5)"
   ]
  },
  {
   "cell_type": "code",
   "execution_count": 15,
   "id": "029e9913",
   "metadata": {
    "execution": {
     "iopub.execute_input": "2023-11-12T21:45:57.492933Z",
     "iopub.status.busy": "2023-11-12T21:45:57.492514Z",
     "iopub.status.idle": "2023-11-12T21:45:57.497311Z",
     "shell.execute_reply": "2023-11-12T21:45:57.496575Z"
    },
    "papermill": {
     "duration": 0.079611,
     "end_time": "2023-11-12T21:45:57.499322",
     "exception": false,
     "start_time": "2023-11-12T21:45:57.419711",
     "status": "completed"
    },
    "tags": []
   },
   "outputs": [],
   "source": [
    "data = df.copy()"
   ]
  },
  {
   "cell_type": "code",
   "execution_count": 16,
   "id": "10340fd0",
   "metadata": {
    "execution": {
     "iopub.execute_input": "2023-11-12T21:45:57.650776Z",
     "iopub.status.busy": "2023-11-12T21:45:57.650291Z",
     "iopub.status.idle": "2023-11-12T21:45:57.656377Z",
     "shell.execute_reply": "2023-11-12T21:45:57.655225Z"
    },
    "papermill": {
     "duration": 0.084227,
     "end_time": "2023-11-12T21:45:57.658865",
     "exception": false,
     "start_time": "2023-11-12T21:45:57.574638",
     "status": "completed"
    },
    "tags": []
   },
   "outputs": [],
   "source": [
    "## age feature creation\n",
    "data['Age'] = 2023 - data['Year_Birth']"
   ]
  },
  {
   "cell_type": "code",
   "execution_count": 17,
   "id": "6706266c",
   "metadata": {
    "execution": {
     "iopub.execute_input": "2023-11-12T21:45:57.806825Z",
     "iopub.status.busy": "2023-11-12T21:45:57.806412Z",
     "iopub.status.idle": "2023-11-12T21:45:57.813237Z",
     "shell.execute_reply": "2023-11-12T21:45:57.812456Z"
    },
    "papermill": {
     "duration": 0.083346,
     "end_time": "2023-11-12T21:45:57.815481",
     "exception": false,
     "start_time": "2023-11-12T21:45:57.732135",
     "status": "completed"
    },
    "tags": []
   },
   "outputs": [],
   "source": [
    "## Spending feature creation\n",
    "data['spending'] = data['MntWines'] + data['MntFruits'] + data['MntMeatProducts'] + data['MntFishProducts'] \\\n",
    "                        + data['MntSweetProducts'] + data['MntGoldProds']"
   ]
  },
  {
   "cell_type": "code",
   "execution_count": 18,
   "id": "a161bdc6",
   "metadata": {
    "execution": {
     "iopub.execute_input": "2023-11-12T21:45:57.961755Z",
     "iopub.status.busy": "2023-11-12T21:45:57.960950Z",
     "iopub.status.idle": "2023-11-12T21:45:57.983920Z",
     "shell.execute_reply": "2023-11-12T21:45:57.982768Z"
    },
    "papermill": {
     "duration": 0.099653,
     "end_time": "2023-11-12T21:45:57.987085",
     "exception": false,
     "start_time": "2023-11-12T21:45:57.887432",
     "status": "completed"
    },
    "tags": []
   },
   "outputs": [],
   "source": [
    "## Seniority feature creation\n",
    "last_date = date(2023,9, 10)\n",
    "\n",
    "def seniority(x):\n",
    "    return last_date - x\n",
    "\n",
    "data['Seniority'] = pd.to_numeric(data['Dt_Customer'].dt.date.apply(seniority).dt.days, downcast='integer')/365"
   ]
  },
  {
   "cell_type": "code",
   "execution_count": 19,
   "id": "96f91126",
   "metadata": {
    "execution": {
     "iopub.execute_input": "2023-11-12T21:45:58.134991Z",
     "iopub.status.busy": "2023-11-12T21:45:58.134565Z",
     "iopub.status.idle": "2023-11-12T21:45:58.142568Z",
     "shell.execute_reply": "2023-11-12T21:45:58.141724Z"
    },
    "papermill": {
     "duration": 0.085125,
     "end_time": "2023-11-12T21:45:58.144815",
     "exception": false,
     "start_time": "2023-11-12T21:45:58.059690",
     "status": "completed"
    },
    "tags": []
   },
   "outputs": [],
   "source": [
    "## rename some cols\n",
    "data=data.rename(columns={'NumWebPurchases': 'Web','NumCatalogPurchases':'Catalog','NumStorePurchases':'Store'})"
   ]
  },
  {
   "cell_type": "code",
   "execution_count": 20,
   "id": "ce83142e",
   "metadata": {
    "execution": {
     "iopub.execute_input": "2023-11-12T21:45:58.291108Z",
     "iopub.status.busy": "2023-11-12T21:45:58.290476Z",
     "iopub.status.idle": "2023-11-12T21:45:58.297805Z",
     "shell.execute_reply": "2023-11-12T21:45:58.296433Z"
    },
    "papermill": {
     "duration": 0.083561,
     "end_time": "2023-11-12T21:45:58.300272",
     "exception": false,
     "start_time": "2023-11-12T21:45:58.216711",
     "status": "completed"
    },
    "tags": []
   },
   "outputs": [
    {
     "data": {
      "text/plain": [
       "array(['Single', 'Together', 'Married', 'Divorced', 'Widow', 'Alone',\n",
       "       'Absurd', 'YOLO'], dtype=object)"
      ]
     },
     "execution_count": 20,
     "metadata": {},
     "output_type": "execute_result"
    }
   ],
   "source": [
    "data[\"Marital_Status\"].unique()"
   ]
  },
  {
   "cell_type": "code",
   "execution_count": 21,
   "id": "09068018",
   "metadata": {
    "execution": {
     "iopub.execute_input": "2023-11-12T21:45:58.447558Z",
     "iopub.status.busy": "2023-11-12T21:45:58.447133Z",
     "iopub.status.idle": "2023-11-12T21:45:58.456457Z",
     "shell.execute_reply": "2023-11-12T21:45:58.455647Z"
    },
    "papermill": {
     "duration": 0.085688,
     "end_time": "2023-11-12T21:45:58.458538",
     "exception": false,
     "start_time": "2023-11-12T21:45:58.372850",
     "status": "completed"
    },
    "tags": []
   },
   "outputs": [],
   "source": [
    "## Matrial Status, i will  convert to 2 unique values .. \n",
    "## Alone ==> Divorced, Single, Absurd, Widow , YOLO.\n",
    "## In couple ==> Married, Together.\n",
    "data[\"Marital_Status\"] = data['Marital_Status'].replace({'Divorced':'Alone','Single':'Alone','Married':'In couple','Together':'In couple','Absurd':'Alone','Widow':'Alone','YOLO':'Alone'})"
   ]
  },
  {
   "cell_type": "code",
   "execution_count": 22,
   "id": "2c00b04c",
   "metadata": {
    "execution": {
     "iopub.execute_input": "2023-11-12T21:45:58.607291Z",
     "iopub.status.busy": "2023-11-12T21:45:58.606561Z",
     "iopub.status.idle": "2023-11-12T21:45:58.614236Z",
     "shell.execute_reply": "2023-11-12T21:45:58.613150Z"
    },
    "papermill": {
     "duration": 0.086292,
     "end_time": "2023-11-12T21:45:58.616800",
     "exception": false,
     "start_time": "2023-11-12T21:45:58.530508",
     "status": "completed"
    },
    "tags": []
   },
   "outputs": [
    {
     "data": {
      "text/plain": [
       "2"
      ]
     },
     "execution_count": 22,
     "metadata": {},
     "output_type": "execute_result"
    }
   ],
   "source": [
    "data[\"Marital_Status\"].nunique()"
   ]
  },
  {
   "cell_type": "code",
   "execution_count": 23,
   "id": "de0e6570",
   "metadata": {
    "execution": {
     "iopub.execute_input": "2023-11-12T21:45:58.765305Z",
     "iopub.status.busy": "2023-11-12T21:45:58.764857Z",
     "iopub.status.idle": "2023-11-12T21:45:58.772881Z",
     "shell.execute_reply": "2023-11-12T21:45:58.771476Z"
    },
    "papermill": {
     "duration": 0.084385,
     "end_time": "2023-11-12T21:45:58.775064",
     "exception": false,
     "start_time": "2023-11-12T21:45:58.690679",
     "status": "completed"
    },
    "tags": []
   },
   "outputs": [
    {
     "name": "stdout",
     "output_type": "stream",
     "text": [
      "Education column number of unique value : 5\n",
      "Education column unique value : ['Graduation' 'PhD' 'Master' 'Basic' '2n Cycle']\n"
     ]
    }
   ],
   "source": [
    "print(f\"Education column number of unique value : {data['Education'].nunique()}\")\n",
    "print(f\"Education column unique value : {data['Education'].unique()}\")"
   ]
  },
  {
   "cell_type": "code",
   "execution_count": 24,
   "id": "bdb55edb",
   "metadata": {
    "execution": {
     "iopub.execute_input": "2023-11-12T21:45:58.922490Z",
     "iopub.status.busy": "2023-11-12T21:45:58.921263Z",
     "iopub.status.idle": "2023-11-12T21:45:58.930454Z",
     "shell.execute_reply": "2023-11-12T21:45:58.929112Z"
    },
    "papermill": {
     "duration": 0.085517,
     "end_time": "2023-11-12T21:45:58.932980",
     "exception": false,
     "start_time": "2023-11-12T21:45:58.847463",
     "status": "completed"
    },
    "tags": []
   },
   "outputs": [
    {
     "data": {
      "text/plain": [
       "Education\n",
       "Graduation    1127\n",
       "PhD            486\n",
       "Master         370\n",
       "2n Cycle       203\n",
       "Basic           54\n",
       "Name: count, dtype: int64"
      ]
     },
     "execution_count": 24,
     "metadata": {},
     "output_type": "execute_result"
    }
   ],
   "source": [
    "data['Education'].value_counts()"
   ]
  },
  {
   "cell_type": "code",
   "execution_count": 25,
   "id": "4e427f72",
   "metadata": {
    "execution": {
     "iopub.execute_input": "2023-11-12T21:45:59.080616Z",
     "iopub.status.busy": "2023-11-12T21:45:59.079504Z",
     "iopub.status.idle": "2023-11-12T21:45:59.088126Z",
     "shell.execute_reply": "2023-11-12T21:45:59.087201Z"
    },
    "papermill": {
     "duration": 0.084671,
     "end_time": "2023-11-12T21:45:59.090359",
     "exception": false,
     "start_time": "2023-11-12T21:45:59.005688",
     "status": "completed"
    },
    "tags": []
   },
   "outputs": [],
   "source": [
    "## Education column , i will  convert to 2 unique values .. \n",
    "## ungrad. ==> Basic, 2n Cycle .\n",
    "## postgrad. ==> Graduation, Master, PhD.\n",
    "data['Education']=data['Education'].replace({'Basic':'Undergraduate','2n Cycle':'Undergraduate','Graduation':'Postgraduate','Master':'Postgraduate','PhD':'Postgraduate'})"
   ]
  },
  {
   "cell_type": "code",
   "execution_count": 26,
   "id": "e1d72600",
   "metadata": {
    "execution": {
     "iopub.execute_input": "2023-11-12T21:45:59.237203Z",
     "iopub.status.busy": "2023-11-12T21:45:59.236117Z",
     "iopub.status.idle": "2023-11-12T21:45:59.242552Z",
     "shell.execute_reply": "2023-11-12T21:45:59.241791Z"
    },
    "papermill": {
     "duration": 0.081636,
     "end_time": "2023-11-12T21:45:59.244597",
     "exception": false,
     "start_time": "2023-11-12T21:45:59.162961",
     "status": "completed"
    },
    "tags": []
   },
   "outputs": [
    {
     "name": "stdout",
     "output_type": "stream",
     "text": [
      "after update , Education column number of unique value : 2\n",
      "after update , Education column unique value : ['Postgraduate' 'Undergraduate']\n"
     ]
    }
   ],
   "source": [
    "print(f\"after update , Education column number of unique value : {data['Education'].nunique()}\")\n",
    "print(f\"after update , Education column unique value : {data['Education'].unique()}\")"
   ]
  },
  {
   "cell_type": "code",
   "execution_count": 27,
   "id": "a25dfad7",
   "metadata": {
    "execution": {
     "iopub.execute_input": "2023-11-12T21:45:59.392408Z",
     "iopub.status.busy": "2023-11-12T21:45:59.391259Z",
     "iopub.status.idle": "2023-11-12T21:45:59.397505Z",
     "shell.execute_reply": "2023-11-12T21:45:59.396734Z"
    },
    "papermill": {
     "duration": 0.082285,
     "end_time": "2023-11-12T21:45:59.399600",
     "exception": false,
     "start_time": "2023-11-12T21:45:59.317315",
     "status": "completed"
    },
    "tags": []
   },
   "outputs": [
    {
     "name": "stdout",
     "output_type": "stream",
     "text": [
      "num of unique value in kidhome : 3\n",
      "num of unique value in Teenhome : 3\n"
     ]
    }
   ],
   "source": [
    "print(f\"num of unique value in kidhome : {data['Kidhome'].nunique()}\")\n",
    "print(f\"num of unique value in Teenhome : {data['Teenhome'].nunique()}\")"
   ]
  },
  {
   "cell_type": "code",
   "execution_count": 28,
   "id": "b15126fc",
   "metadata": {
    "execution": {
     "iopub.execute_input": "2023-11-12T21:45:59.550861Z",
     "iopub.status.busy": "2023-11-12T21:45:59.550094Z",
     "iopub.status.idle": "2023-11-12T21:46:00.096755Z",
     "shell.execute_reply": "2023-11-12T21:46:00.095656Z"
    },
    "papermill": {
     "duration": 0.627266,
     "end_time": "2023-11-12T21:46:00.099321",
     "exception": false,
     "start_time": "2023-11-12T21:45:59.472055",
     "status": "completed"
    },
    "tags": []
   },
   "outputs": [
    {
     "data": {
      "image/png": "[encoded data removed]",
      "text/plain": [
       "<Figure size 1800x500 with 2 Axes>"
      ]
     },
     "metadata": {},
     "output_type": "display_data"
    }
   ],
   "source": [
    "used_cols = [\"Kidhome\", \"Teenhome\"]\n",
    "\n",
    "fig, ax = plt.subplots(1, 2, figsize = (18,5))\n",
    "\n",
    "for i in range(2):\n",
    "    sns.countplot(ax=ax[i], data=data, x=used_cols[i])\n",
    "    ax[i].set_title(f\"{used_cols[i]} Countplot.\", weight=\"bold\")\n",
    "    ax[i].set_ylabel(\"Count\")\n",
    "\n",
    "plt.show()"
   ]
  },
  {
   "cell_type": "code",
   "execution_count": 29,
   "id": "e493e9d2",
   "metadata": {
    "execution": {
     "iopub.execute_input": "2023-11-12T21:46:00.247807Z",
     "iopub.status.busy": "2023-11-12T21:46:00.247372Z",
     "iopub.status.idle": "2023-11-12T21:46:00.253670Z",
     "shell.execute_reply": "2023-11-12T21:46:00.252552Z"
    },
    "papermill": {
     "duration": 0.083576,
     "end_time": "2023-11-12T21:46:00.256054",
     "exception": false,
     "start_time": "2023-11-12T21:46:00.172478",
     "status": "completed"
    },
    "tags": []
   },
   "outputs": [],
   "source": [
    "## Children feature creation\n",
    "data['Children'] = data['Kidhome'] + data['Teenhome']"
   ]
  },
  {
   "cell_type": "code",
   "execution_count": 30,
   "id": "2278a9b6",
   "metadata": {
    "execution": {
     "iopub.execute_input": "2023-11-12T21:46:00.405688Z",
     "iopub.status.busy": "2023-11-12T21:46:00.404976Z",
     "iopub.status.idle": "2023-11-12T21:46:00.411940Z",
     "shell.execute_reply": "2023-11-12T21:46:00.411058Z"
    },
    "papermill": {
     "duration": 0.084728,
     "end_time": "2023-11-12T21:46:00.414161",
     "exception": false,
     "start_time": "2023-11-12T21:46:00.329433",
     "status": "completed"
    },
    "tags": []
   },
   "outputs": [],
   "source": [
    "def has_chid_or_no(x):\n",
    "    if x > 0:\n",
    "        return \"Has child\"\n",
    "    else :\n",
    "        return \"no child\"\n",
    "    \n",
    "data['Has_child'] = data[\"Children\"].apply(has_chid_or_no)"
   ]
  },
  {
   "cell_type": "code",
   "execution_count": 31,
   "id": "6ceb60aa",
   "metadata": {
    "execution": {
     "iopub.execute_input": "2023-11-12T21:46:00.563194Z",
     "iopub.status.busy": "2023-11-12T21:46:00.562506Z",
     "iopub.status.idle": "2023-11-12T21:46:00.572763Z",
     "shell.execute_reply": "2023-11-12T21:46:00.571925Z"
    },
    "papermill": {
     "duration": 0.087582,
     "end_time": "2023-11-12T21:46:00.574937",
     "exception": false,
     "start_time": "2023-11-12T21:46:00.487355",
     "status": "completed"
    },
    "tags": []
   },
   "outputs": [
    {
     "data": {
      "text/plain": [
       "Has_child\n",
       "Has child    1602\n",
       "no child      638\n",
       "Name: count, dtype: int64"
      ]
     },
     "execution_count": 31,
     "metadata": {},
     "output_type": "execute_result"
    }
   ],
   "source": [
    "data['Has_child'].value_counts()"
   ]
  },
  {
   "cell_type": "code",
   "execution_count": 32,
   "id": "9c8c82a5",
   "metadata": {
    "execution": {
     "iopub.execute_input": "2023-11-12T21:46:00.725725Z",
     "iopub.status.busy": "2023-11-12T21:46:00.725002Z",
     "iopub.status.idle": "2023-11-12T21:46:00.731692Z",
     "shell.execute_reply": "2023-11-12T21:46:00.730761Z"
    },
    "papermill": {
     "duration": 0.085408,
     "end_time": "2023-11-12T21:46:00.734155",
     "exception": false,
     "start_time": "2023-11-12T21:46:00.648747",
     "status": "completed"
    },
    "tags": []
   },
   "outputs": [],
   "source": [
    "data['Children'].replace({3: \"3 children\",2:'2 children',1:'1 child',0:\"No child\"},inplace=True)"
   ]
  },
  {
   "cell_type": "code",
   "execution_count": 33,
   "id": "c517fbaf",
   "metadata": {
    "execution": {
     "iopub.execute_input": "2023-11-12T21:46:00.885578Z",
     "iopub.status.busy": "2023-11-12T21:46:00.884946Z",
     "iopub.status.idle": "2023-11-12T21:46:00.893284Z",
     "shell.execute_reply": "2023-11-12T21:46:00.892109Z"
    },
    "papermill": {
     "duration": 0.086077,
     "end_time": "2023-11-12T21:46:00.895624",
     "exception": false,
     "start_time": "2023-11-12T21:46:00.809547",
     "status": "completed"
    },
    "tags": []
   },
   "outputs": [
    {
     "data": {
      "text/plain": [
       "Children\n",
       "1 child       1128\n",
       "No child       638\n",
       "2 children     421\n",
       "3 children      53\n",
       "Name: count, dtype: int64"
      ]
     },
     "execution_count": 33,
     "metadata": {},
     "output_type": "execute_result"
    }
   ],
   "source": [
    "data['Children'].value_counts()"
   ]
  },
  {
   "cell_type": "code",
   "execution_count": 34,
   "id": "58948370",
   "metadata": {
    "execution": {
     "iopub.execute_input": "2023-11-12T21:46:01.106830Z",
     "iopub.status.busy": "2023-11-12T21:46:01.106404Z",
     "iopub.status.idle": "2023-11-12T21:46:01.113969Z",
     "shell.execute_reply": "2023-11-12T21:46:01.112879Z"
    },
    "papermill": {
     "duration": 0.146899,
     "end_time": "2023-11-12T21:46:01.116347",
     "exception": false,
     "start_time": "2023-11-12T21:46:00.969448",
     "status": "completed"
    },
    "tags": []
   },
   "outputs": [],
   "source": [
    "## rename some cols\n",
    "data = data.rename(columns={'MntWines': \"Wines\",\n",
    "                            'MntFruits':'Fruits',\n",
    "                            'MntMeatProducts':'Meat',\n",
    "                            'MntFishProducts':'Fish',\n",
    "                            'MntSweetProducts':'Sweets',\n",
    "                            'MntGoldProds':'Gold',\n",
    "                            'NumDealsPurchases':'Deals'})\n"
   ]
  },
  {
   "cell_type": "code",
   "execution_count": 35,
   "id": "24015568",
   "metadata": {
    "execution": {
     "iopub.execute_input": "2023-11-12T21:46:01.269750Z",
     "iopub.status.busy": "2023-11-12T21:46:01.268658Z",
     "iopub.status.idle": "2023-11-12T21:46:01.281808Z",
     "shell.execute_reply": "2023-11-12T21:46:01.280997Z"
    },
    "papermill": {
     "duration": 0.089526,
     "end_time": "2023-11-12T21:46:01.283866",
     "exception": false,
     "start_time": "2023-11-12T21:46:01.194340",
     "status": "completed"
    },
    "tags": []
   },
   "outputs": [
    {
     "data": {
      "text/html": [
       "<div>\n",
       "<style scoped>\n",
       "    .dataframe tbody tr th:only-of-type {\n",
       "        vertical-align: middle;\n",
       "    }\n",
       "\n",
       "    .dataframe tbody tr th {\n",
       "        vertical-align: top;\n",
       "    }\n",
       "\n",
       "    .dataframe thead th {\n",
       "        text-align: right;\n",
       "    }\n",
       "</style>\n",
       "<table border=\"1\" class=\"dataframe\">\n",
       "  <thead>\n",
       "    <tr style=\"text-align: right;\">\n",
       "      <th></th>\n",
       "      <th>AcceptedCmp1</th>\n",
       "      <th>AcceptedCmp2</th>\n",
       "      <th>AcceptedCmp3</th>\n",
       "      <th>AcceptedCmp4</th>\n",
       "      <th>AcceptedCmp5</th>\n",
       "      <th>Response</th>\n",
       "    </tr>\n",
       "  </thead>\n",
       "  <tbody>\n",
       "    <tr>\n",
       "      <th>2229</th>\n",
       "      <td>0</td>\n",
       "      <td>0</td>\n",
       "      <td>0</td>\n",
       "      <td>0</td>\n",
       "      <td>0</td>\n",
       "      <td>0</td>\n",
       "    </tr>\n",
       "    <tr>\n",
       "      <th>391</th>\n",
       "      <td>0</td>\n",
       "      <td>0</td>\n",
       "      <td>0</td>\n",
       "      <td>0</td>\n",
       "      <td>0</td>\n",
       "      <td>0</td>\n",
       "    </tr>\n",
       "    <tr>\n",
       "      <th>519</th>\n",
       "      <td>1</td>\n",
       "      <td>0</td>\n",
       "      <td>0</td>\n",
       "      <td>0</td>\n",
       "      <td>1</td>\n",
       "      <td>0</td>\n",
       "    </tr>\n",
       "    <tr>\n",
       "      <th>1912</th>\n",
       "      <td>0</td>\n",
       "      <td>0</td>\n",
       "      <td>0</td>\n",
       "      <td>0</td>\n",
       "      <td>0</td>\n",
       "      <td>0</td>\n",
       "    </tr>\n",
       "    <tr>\n",
       "      <th>693</th>\n",
       "      <td>0</td>\n",
       "      <td>0</td>\n",
       "      <td>0</td>\n",
       "      <td>0</td>\n",
       "      <td>0</td>\n",
       "      <td>0</td>\n",
       "    </tr>\n",
       "  </tbody>\n",
       "</table>\n",
       "</div>"
      ],
      "text/plain": [
       "      AcceptedCmp1  AcceptedCmp2  AcceptedCmp3  AcceptedCmp4  AcceptedCmp5  \\\n",
       "2229             0             0             0             0             0   \n",
       "391              0             0             0             0             0   \n",
       "519              1             0             0             0             1   \n",
       "1912             0             0             0             0             0   \n",
       "693              0             0             0             0             0   \n",
       "\n",
       "      Response  \n",
       "2229         0  \n",
       "391          0  \n",
       "519          0  \n",
       "1912         0  \n",
       "693          0  "
      ]
     },
     "execution_count": 35,
     "metadata": {},
     "output_type": "execute_result"
    }
   ],
   "source": [
    "data[['AcceptedCmp1', 'AcceptedCmp2', 'AcceptedCmp3', 'AcceptedCmp4', 'AcceptedCmp5','Response']].sample(5)\n",
    "## Response: 1 if customer accepted the offer in the last campaign, 0 otherwise"
   ]
  },
  {
   "cell_type": "code",
   "execution_count": 36,
   "id": "51b53ea7",
   "metadata": {
    "execution": {
     "iopub.execute_input": "2023-11-12T21:46:01.435120Z",
     "iopub.status.busy": "2023-11-12T21:46:01.433827Z",
     "iopub.status.idle": "2023-11-12T21:46:01.441789Z",
     "shell.execute_reply": "2023-11-12T21:46:01.440957Z"
    },
    "papermill": {
     "duration": 0.086641,
     "end_time": "2023-11-12T21:46:01.444164",
     "exception": false,
     "start_time": "2023-11-12T21:46:01.357523",
     "status": "completed"
    },
    "tags": []
   },
   "outputs": [],
   "source": [
    "## Campaigns_Accepted feature creation\n",
    "data['Campaigns_Accepted'] = data[['AcceptedCmp1', 'AcceptedCmp2', 'AcceptedCmp3', 'AcceptedCmp4', 'AcceptedCmp5']].sum(axis=1)"
   ]
  },
  {
   "cell_type": "code",
   "execution_count": 37,
   "id": "19f53887",
   "metadata": {
    "execution": {
     "iopub.execute_input": "2023-11-12T21:46:01.597325Z",
     "iopub.status.busy": "2023-11-12T21:46:01.596323Z",
     "iopub.status.idle": "2023-11-12T21:46:01.608403Z",
     "shell.execute_reply": "2023-11-12T21:46:01.607152Z"
    },
    "papermill": {
     "duration": 0.091637,
     "end_time": "2023-11-12T21:46:01.611089",
     "exception": false,
     "start_time": "2023-11-12T21:46:01.519452",
     "status": "completed"
    },
    "tags": []
   },
   "outputs": [
    {
     "data": {
      "text/html": [
       "<div>\n",
       "<style scoped>\n",
       "    .dataframe tbody tr th:only-of-type {\n",
       "        vertical-align: middle;\n",
       "    }\n",
       "\n",
       "    .dataframe tbody tr th {\n",
       "        vertical-align: top;\n",
       "    }\n",
       "\n",
       "    .dataframe thead th {\n",
       "        text-align: right;\n",
       "    }\n",
       "</style>\n",
       "<table border=\"1\" class=\"dataframe\">\n",
       "  <thead>\n",
       "    <tr style=\"text-align: right;\">\n",
       "      <th></th>\n",
       "      <th>count</th>\n",
       "    </tr>\n",
       "    <tr>\n",
       "      <th>Campaigns_Accepted</th>\n",
       "      <th></th>\n",
       "    </tr>\n",
       "  </thead>\n",
       "  <tbody>\n",
       "    <tr>\n",
       "      <th>0</th>\n",
       "      <td>1777</td>\n",
       "    </tr>\n",
       "    <tr>\n",
       "      <th>1</th>\n",
       "      <td>325</td>\n",
       "    </tr>\n",
       "    <tr>\n",
       "      <th>2</th>\n",
       "      <td>83</td>\n",
       "    </tr>\n",
       "    <tr>\n",
       "      <th>3</th>\n",
       "      <td>44</td>\n",
       "    </tr>\n",
       "    <tr>\n",
       "      <th>4</th>\n",
       "      <td>11</td>\n",
       "    </tr>\n",
       "  </tbody>\n",
       "</table>\n",
       "</div>"
      ],
      "text/plain": [
       "                    count\n",
       "Campaigns_Accepted       \n",
       "0                    1777\n",
       "1                     325\n",
       "2                      83\n",
       "3                      44\n",
       "4                      11"
      ]
     },
     "execution_count": 37,
     "metadata": {},
     "output_type": "execute_result"
    }
   ],
   "source": [
    "data['Campaigns_Accepted'].value_counts().to_frame()"
   ]
  },
  {
   "cell_type": "code",
   "execution_count": 38,
   "id": "0f37a99a",
   "metadata": {
    "execution": {
     "iopub.execute_input": "2023-11-12T21:46:01.763051Z",
     "iopub.status.busy": "2023-11-12T21:46:01.762225Z",
     "iopub.status.idle": "2023-11-12T21:46:01.773094Z",
     "shell.execute_reply": "2023-11-12T21:46:01.772000Z"
    },
    "papermill": {
     "duration": 0.08938,
     "end_time": "2023-11-12T21:46:01.775500",
     "exception": false,
     "start_time": "2023-11-12T21:46:01.686120",
     "status": "completed"
    },
    "tags": []
   },
   "outputs": [
    {
     "data": {
      "text/plain": [
       "Index(['Education', 'Marital_Status', 'Income', 'Dt_Customer', 'Recency',\n",
       "       'Wines', 'Fruits', 'Meat', 'Fish', 'Sweets', 'Gold', 'Deals', 'Web',\n",
       "       'Catalog', 'Store', 'NumWebVisitsMonth', 'Complain', 'Response', 'Age',\n",
       "       'spending', 'Seniority', 'Children', 'Has_child', 'Campaigns_Accepted'],\n",
       "      dtype='object')"
      ]
     },
     "execution_count": 38,
     "metadata": {},
     "output_type": "execute_result"
    }
   ],
   "source": [
    "## drop some features\n",
    "drop_list =['ID', 'Year_Birth' ,'Kidhome','Teenhome', 'AcceptedCmp3', 'AcceptedCmp4', 'AcceptedCmp5','AcceptedCmp1', 'AcceptedCmp2', 'Z_CostContact','Z_Revenue']\n",
    "data.drop(drop_list, inplace=True, axis=1)\n",
    "data.columns"
   ]
  },
  {
   "cell_type": "raw",
   "id": "989ac253",
   "metadata": {
    "papermill": {
     "duration": 0.073793,
     "end_time": "2023-11-12T21:46:01.924111",
     "exception": false,
     "start_time": "2023-11-12T21:46:01.850318",
     "status": "completed"
    },
    "tags": []
   },
   "source": [
    "# select part from data\n",
    "data = data[['Age', 'Education', 'Marital_Status', 'Dt_Customer' , 'Income', 'spending', 'Seniority', 'Has_child', 'Children', 'Wines', 'Fruits', 'Meat', 'Fish', 'Sweets', 'Gold' ,'Web', \"NumWebVisitsMonth\" ,'Catalog', 'Store', 'Campaigns_Accepted', 'NumDealsPurchases' ,'Response','Complain','Recency']]\n",
    "data.tail()"
   ]
  },
  {
   "cell_type": "code",
   "execution_count": 39,
   "id": "9272d938",
   "metadata": {
    "execution": {
     "iopub.execute_input": "2023-11-12T21:46:02.075103Z",
     "iopub.status.busy": "2023-11-12T21:46:02.074334Z",
     "iopub.status.idle": "2023-11-12T21:46:02.079440Z",
     "shell.execute_reply": "2023-11-12T21:46:02.078542Z"
    },
    "papermill": {
     "duration": 0.082858,
     "end_time": "2023-11-12T21:46:02.081734",
     "exception": false,
     "start_time": "2023-11-12T21:46:01.998876",
     "status": "completed"
    },
    "tags": []
   },
   "outputs": [],
   "source": [
    "## rename columns \n",
    "data.columns = data.columns.str.capitalize()"
   ]
  },
  {
   "cell_type": "markdown",
   "id": "e396796e",
   "metadata": {
    "papermill": {
     "duration": 0.073783,
     "end_time": "2023-11-12T21:46:02.230596",
     "exception": false,
     "start_time": "2023-11-12T21:46:02.156813",
     "status": "completed"
    },
    "tags": []
   },
   "source": [
    "##### `NOW , We Have New Feature`"
   ]
  },
  {
   "cell_type": "code",
   "execution_count": 40,
   "id": "ecfa3558",
   "metadata": {},
   "outputs": [],
   "source": [
    "data.to_csv(\"output/02_data_cleaned.csv\", index=False)"
   ]
  },
  {
   "cell_type": "markdown",
   "id": "b3bbaae6",
   "metadata": {
    "papermill": {
     "duration": 0.073674,
     "end_time": "2023-11-12T21:46:02.378403",
     "exception": false,
     "start_time": "2023-11-12T21:46:02.304729",
     "status": "completed"
    },
    "tags": []
   },
   "source": [
    "---------------"
   ]
  }
 ],
 "metadata": {
  "kernelspec": {
   "display_name": "Python 3",
   "language": "python",
   "name": "python3"
  },
  "language_info": {
   "codemirror_mode": {
    "name": "ipython",
    "version": 3
   },
   "file_extension": ".py",
   "mimetype": "text/x-python",
   "name": "python",
   "nbconvert_exporter": "python",
   "pygments_lexer": "ipython3",
   "version": "3.13.2"
  },
  "papermill": {
   "default_parameters": {},
   "duration": 139.516909,
   "end_time": "2023-11-12T21:48:00.479739",
   "environment_variables": {},
   "exception": null,
   "input_path": "__notebook__.ipynb",
   "output_path": "__notebook__.ipynb",
   "parameters": {},
   "start_time": "2023-11-12T21:45:40.962830",
   "version": "2.4.0"
  }
 },
 "nbformat": 4,
 "nbformat_minor": 5
}
